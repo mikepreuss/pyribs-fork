{
  "cells": [
    {
      "cell_type": "markdown",
      "id": "53d44a9e",
      "metadata": {
        "id": "53d44a9e"
      },
      "source": [
        "# Playing with transformers\n",
        "\n",
        "By [Allison Parrish](http://www.decontextualize.com/)\n",
        "\n",
        "(This is a rough draft!)\n",
        "\n",
        "[Transformers](https://huggingface.co/transformers/) is a Python library released by [Hugging Face](https://huggingface.co/) to make it easy to use pre-trained transformer language models. This notebook takes you through the basics of how to generate text with this library, and demonstrates a few simple techniques you can use to assert finer-grained control over the text generation procedure, like logit warping and fine-tuning.\n",
        "\n",
        "## Warning\n",
        "\n",
        "Before you begin, I recommend reading [On the Dangers of Stochastic Parrots: Can Language Models Be Too Big?](https://dl.acm.org/doi/10.1145/3442188.3445922) by Bender et al. The paper outlines the difficulties and potential for harm in large pre-trained language models, and suggests some techniques for training and making use of these models responsibly. For my part, I have the following recommendations:\n",
        "\n",
        "* Don't use pre-trained language models in an automated context. By \"automated context\" I mean things like web apps, Twitter bots, etc. You just can't guarantee that the output of one of these models won't be harmful. (I might make an exception to this rule if your automated service has *very* robust moderation, but even then, it's iffy.)\n",
        "* Always read through all of your language model outputs before publishing them.\n",
        "* Don't use language models to trick people.\n",
        "\n",
        "## What is a \"transformer\" though\n",
        "\n",
        "\"Transformer\" is a name applied to neural network architectures that make use of a mechanism called [\"attention\"](https://jalammar.github.io/visualizing-neural-machine-translation-mechanics-of-seq2seq-models-with-attention/) and can be trained in parallel (rather than sequentially, as is the case with other neural network architectures that are frequently used to model sequences, like recurrent neural networks). The [introduction of this architecture](https://arxiv.org/abs/1706.03762) initiated a period of tremendous growth in language model capabilities. (Examples of Transformer models include [GPT-2](https://github.com/openai/gpt-2) and [Google T5](https://ai.googleblog.com/2020/02/exploring-transfer-learning-with-t5.html).)\n",
        "\n",
        "This growth is mostly predicated on the fact that the transformer architecture makes it more practical to train language models on larger and larger datasets. As of this writing, state-of-the-art transformer models are often trained on datasets many hundreds of gigabytes in size, and consequently take a tremendous amount of energy (and money, and time) to train. In many cases, it's not practical to train a transformer model from scratch on your own that has the same capabilities. Instead, researchers and artists make use of models that other organizations have trained.\n",
        "\n",
        "## Hugging Face Transformers\n",
        "\n",
        "That's where the Hugging Face Transformers library comes in. It's an easy interface for downloading pre-trained transformer models and making use of them with a consistent API. (For example, we can use the same code to generate text with GPT-2 and [XLNet](https://huggingface.co/transformers/model_doc/xlnet.html)). To install Transformers, you'll first need to install [PyTorch](https://pytorch.org/). If you're running this notebook with Anaconda, you can just run the code in the following cell:"
      ]
    },
    {
      "cell_type": "code",
      "execution_count": 1,
      "id": "2d6c019c",
      "metadata": {
        "scrolled": true,
        "id": "2d6c019c",
        "outputId": "80abc129-9e1f-4a8e-9953-1e536779d03f",
        "colab": {
          "base_uri": "https://localhost:8080/"
        }
      },
      "outputs": [
        {
          "output_type": "stream",
          "name": "stdout",
          "text": [
            "/bin/bash: line 1: conda: command not found\n"
          ]
        }
      ],
      "source": [
        "import sys\n",
        "!conda install --prefix {sys.prefix} -y -c pytorch pytorch"
      ]
    },
    {
      "cell_type": "markdown",
      "id": "51857ed5",
      "metadata": {
        "id": "51857ed5"
      },
      "source": [
        "(Note: You can also use Transformers with Tensorflow, but in practice I've found that PyTorch support in Transformers is better.)\n",
        "\n",
        "Now you can install Transformers by running the following cell:"
      ]
    },
    {
      "cell_type": "code",
      "execution_count": 2,
      "id": "b5b3ecda",
      "metadata": {
        "id": "b5b3ecda",
        "outputId": "b7fb8ac6-d8c0-4843-b051-be903467253b",
        "colab": {
          "base_uri": "https://localhost:8080/"
        }
      },
      "outputs": [
        {
          "output_type": "stream",
          "name": "stdout",
          "text": [
            "Requirement already satisfied: transformers in /usr/local/lib/python3.11/dist-packages (4.48.3)\n",
            "Requirement already satisfied: filelock in /usr/local/lib/python3.11/dist-packages (from transformers) (3.17.0)\n",
            "Requirement already satisfied: huggingface-hub<1.0,>=0.24.0 in /usr/local/lib/python3.11/dist-packages (from transformers) (0.28.1)\n",
            "Requirement already satisfied: numpy>=1.17 in /usr/local/lib/python3.11/dist-packages (from transformers) (1.26.4)\n",
            "Requirement already satisfied: packaging>=20.0 in /usr/local/lib/python3.11/dist-packages (from transformers) (24.2)\n",
            "Requirement already satisfied: pyyaml>=5.1 in /usr/local/lib/python3.11/dist-packages (from transformers) (6.0.2)\n",
            "Requirement already satisfied: regex!=2019.12.17 in /usr/local/lib/python3.11/dist-packages (from transformers) (2024.11.6)\n",
            "Requirement already satisfied: requests in /usr/local/lib/python3.11/dist-packages (from transformers) (2.32.3)\n",
            "Requirement already satisfied: tokenizers<0.22,>=0.21 in /usr/local/lib/python3.11/dist-packages (from transformers) (0.21.0)\n",
            "Requirement already satisfied: safetensors>=0.4.1 in /usr/local/lib/python3.11/dist-packages (from transformers) (0.5.3)\n",
            "Requirement already satisfied: tqdm>=4.27 in /usr/local/lib/python3.11/dist-packages (from transformers) (4.67.1)\n",
            "Requirement already satisfied: fsspec>=2023.5.0 in /usr/local/lib/python3.11/dist-packages (from huggingface-hub<1.0,>=0.24.0->transformers) (2024.10.0)\n",
            "Requirement already satisfied: typing-extensions>=3.7.4.3 in /usr/local/lib/python3.11/dist-packages (from huggingface-hub<1.0,>=0.24.0->transformers) (4.12.2)\n",
            "Requirement already satisfied: charset-normalizer<4,>=2 in /usr/local/lib/python3.11/dist-packages (from requests->transformers) (3.4.1)\n",
            "Requirement already satisfied: idna<4,>=2.5 in /usr/local/lib/python3.11/dist-packages (from requests->transformers) (3.10)\n",
            "Requirement already satisfied: urllib3<3,>=1.21.1 in /usr/local/lib/python3.11/dist-packages (from requests->transformers) (2.3.0)\n",
            "Requirement already satisfied: certifi>=2017.4.17 in /usr/local/lib/python3.11/dist-packages (from requests->transformers) (2025.1.31)\n"
          ]
        }
      ],
      "source": [
        "import sys\n",
        "!{sys.executable} -m pip install transformers"
      ]
    },
    {
      "cell_type": "markdown",
      "id": "d779a381",
      "metadata": {
        "id": "d779a381"
      },
      "source": [
        "## Quick start: load a model and generate text"
      ]
    },
    {
      "cell_type": "markdown",
      "id": "ea69e8fd",
      "metadata": {
        "id": "ea69e8fd"
      },
      "source": [
        "I'm going to show you how to load a pre-trained model from the [Hugging Face Models directory](https://huggingface.co/models). First, you need to import the relevant parts of the Transformers library. I'm using the `Auto` classes, which automatically load the correct code based on the model that you choose. The `AutoModelForCausalLM` (that's \"causal\" not \"casual\") is the class you use for text generation tasks (where you want to generate the next word in a sequence)."
      ]
    },
    {
      "cell_type": "code",
      "execution_count": 3,
      "id": "c327cc58",
      "metadata": {
        "id": "c327cc58"
      },
      "outputs": [],
      "source": [
        "from transformers import pipeline, AutoModelForCausalLM, AutoTokenizer"
      ]
    },
    {
      "cell_type": "markdown",
      "id": "be708150",
      "metadata": {
        "id": "be708150"
      },
      "source": [
        "In this notebook, I'm going to use [distilgpt2](https://huggingface.co/distilgpt2), a \"distilled\" version of OpenAI's GPT-2 model. The primary benefit of this model is that it is small and fast—it generates text in a speedy fashion even on my old 2013 MacBook Air. You need to load both the model and its associated tokenizer. (We'll talk about the tokenizer in more detail below.) To load, use the `.from_pretrained()` method of the appropriate `Auto` class, like so:"
      ]
    },
    {
      "cell_type": "code",
      "execution_count": 4,
      "id": "8cd686cf",
      "metadata": {
        "id": "8cd686cf",
        "outputId": "128fe1dc-da98-46d0-a558-322114d06bc7",
        "colab": {
          "base_uri": "https://localhost:8080/",
          "height": 350,
          "referenced_widgets": [
            "7ad5806d6aca464794586b56351d27e6",
            "3f2a0cf44ba84856841b9a1c6cb83636",
            "0c66de7e5f1f47d78c4a7a5e5894ffd2",
            "32c1f7a0c2614bd6a9354f741df26734",
            "29cb334d7a9644cca7b2d68735a4f8b2",
            "9181a4e624594b8b9a5df1074f9a43c6",
            "89515e603bae4aef9134fe1c2d77643b",
            "7887e0f404fa4b8e8218c2e611fa1830",
            "2fb2edf12499428385a94ca9436113ef",
            "3ab54adc70114fd29a39b828dba3df3c",
            "e83464f96aa74c5bb7d64678d9967681",
            "bde21d1d66ca4114beaf1b792ae49a0f",
            "4c98751226d74bc286d4addbcbdd3783",
            "a3b1b6bfd5d249bda1d010ee753f24d7",
            "2c49d8cdd5dd427785dcfac30c8cd744",
            "7aa65f5fd6f84ed28f63707728349872",
            "6817f9362c7d45e9a6f070accb4adf4d",
            "e8584cb30db44825abec0eaeb62e467b",
            "3eddaa759fd0468287639d18d528b5ea",
            "6bf6eb8bd27e4575bc86bfe9375dcd16",
            "40c8d2b1a54e455a90b608710417960d",
            "972a31a4e1064bed82c6d945b4dd3ea0",
            "edec2611480f451cbb2cca1fcb0508c3",
            "7ae05197e7214d21a813447a96b95110",
            "225d3d6ad9f5433598ba6b4994d1d8ac",
            "e95f22e684cf4392a3a65910b013d521",
            "6320b562b5e14943a7ba98542e7ccec9",
            "4ea0d462785c476dbfc350e4495fdd23",
            "94c7d3be56404998bced4c27aef4bf1a",
            "511a2b656da241dda571cbbd49bed861",
            "461e8ac1e4db415aa15f9f39c9cab437",
            "a89eccde9e234adda27624e252f3b343",
            "47bd0f8f59db45209bacb47e0bbc71ca",
            "640fe1ce0d8640d3914a5c723d1dc838",
            "057cd9bc90b64e66bd4766fb6479ba66",
            "87f1a9f80c1a46c8bb886b8fcae46546",
            "093035a543d54e2c916ba7a408e592f2",
            "93dec6545dfd4bca86f1ce0080ded031",
            "6a3ea6c9652342daa8d407b868cfa155",
            "0741d7e99a844f0e94061f8badd7e4f9",
            "9214d36164f24c9fbcecea397bcb0704",
            "d0b19a2611c84cbfb02026bd84ed28a6",
            "66b41ad769714c70841be5cf00dc09c0",
            "7bec5a6dda4a4ccf8b90c76fac988dd2",
            "88ce35012b4e4cc1b54e9b396accd482",
            "b5a2381c36cc4cb99184183c04e769b8",
            "8ad5fa720764467ba8a82d2ecfe432ea",
            "ccca796dce0f4cfcb51237e8929b527f",
            "f87daea95624482c9b25a81dd4ce3e5a",
            "1359486de51f4139bb01101c455369e3",
            "fe363e6678604d8697c4e91359c3fdb7",
            "9d2ae03f0a284e428e879ccc6a03c609",
            "966d48364ca1465785a59630f4137ebc",
            "8ccee1a95e4e412bb36dfec5b924cfc7",
            "417c4af93a124d67be86dde59862bee3",
            "dcb6209664414e17be8328ae87e1a47a",
            "e3d342925ac24d5f8196d78b59cb532e",
            "6f2fe524de7b4b35b77a0ed4a5ead721",
            "ceafe378cf6d4aabb8b81c00281e5693",
            "d4a54611af344187bcc7640679bb477c",
            "d73bcb41038f4727858e525d0a920214",
            "587c741c2c324b1888b7bed6d732366d",
            "01d0c3340b7f4ea5acb77a56ee166121",
            "008a0ac7918844f3aa933c681d6b2e42",
            "cf8f4a65a3c34809947a4bcd424fe130",
            "e733bf28e40543c7ae07bc8793965560",
            "a8be294a77c1453bb75dc43fc8b9d05b",
            "f58af0a4c82e48578883bde4a4304260",
            "35266cea96fd42daa6be432e7920aca9",
            "3f795b820c054bfd84905cbb760c0c80",
            "1ed5a8cdc078475588b437682e960444",
            "ef76a99ab42649c6832b5079a915501a",
            "32ff4a23a4794d11a7f8e445c2e6140b",
            "0204523004224920ab1b103d3e4bc1d2",
            "bbdb397cdc0f4a919f74154b595bae64",
            "22e4d3757ab640cc91444303a7ca8d10",
            "a3f00de8abc44e4da34345078d54e0e7"
          ]
        }
      },
      "outputs": [
        {
          "output_type": "stream",
          "name": "stderr",
          "text": [
            "/usr/local/lib/python3.11/dist-packages/huggingface_hub/utils/_auth.py:94: UserWarning: \n",
            "The secret `HF_TOKEN` does not exist in your Colab secrets.\n",
            "To authenticate with the Hugging Face Hub, create a token in your settings tab (https://huggingface.co/settings/tokens), set it as secret in your Google Colab and restart your session.\n",
            "You will be able to reuse this secret in all of your notebooks.\n",
            "Please note that authentication is recommended but still optional to access public models or datasets.\n",
            "  warnings.warn(\n"
          ]
        },
        {
          "output_type": "display_data",
          "data": {
            "text/plain": [
              "tokenizer_config.json:   0%|          | 0.00/26.0 [00:00<?, ?B/s]"
            ],
            "application/vnd.jupyter.widget-view+json": {
              "version_major": 2,
              "version_minor": 0,
              "model_id": "7ad5806d6aca464794586b56351d27e6"
            }
          },
          "metadata": {}
        },
        {
          "output_type": "display_data",
          "data": {
            "text/plain": [
              "config.json:   0%|          | 0.00/762 [00:00<?, ?B/s]"
            ],
            "application/vnd.jupyter.widget-view+json": {
              "version_major": 2,
              "version_minor": 0,
              "model_id": "bde21d1d66ca4114beaf1b792ae49a0f"
            }
          },
          "metadata": {}
        },
        {
          "output_type": "display_data",
          "data": {
            "text/plain": [
              "vocab.json:   0%|          | 0.00/1.04M [00:00<?, ?B/s]"
            ],
            "application/vnd.jupyter.widget-view+json": {
              "version_major": 2,
              "version_minor": 0,
              "model_id": "edec2611480f451cbb2cca1fcb0508c3"
            }
          },
          "metadata": {}
        },
        {
          "output_type": "display_data",
          "data": {
            "text/plain": [
              "merges.txt:   0%|          | 0.00/456k [00:00<?, ?B/s]"
            ],
            "application/vnd.jupyter.widget-view+json": {
              "version_major": 2,
              "version_minor": 0,
              "model_id": "640fe1ce0d8640d3914a5c723d1dc838"
            }
          },
          "metadata": {}
        },
        {
          "output_type": "display_data",
          "data": {
            "text/plain": [
              "tokenizer.json:   0%|          | 0.00/1.36M [00:00<?, ?B/s]"
            ],
            "application/vnd.jupyter.widget-view+json": {
              "version_major": 2,
              "version_minor": 0,
              "model_id": "88ce35012b4e4cc1b54e9b396accd482"
            }
          },
          "metadata": {}
        },
        {
          "output_type": "display_data",
          "data": {
            "text/plain": [
              "model.safetensors:   0%|          | 0.00/353M [00:00<?, ?B/s]"
            ],
            "application/vnd.jupyter.widget-view+json": {
              "version_major": 2,
              "version_minor": 0,
              "model_id": "dcb6209664414e17be8328ae87e1a47a"
            }
          },
          "metadata": {}
        },
        {
          "output_type": "display_data",
          "data": {
            "text/plain": [
              "generation_config.json:   0%|          | 0.00/124 [00:00<?, ?B/s]"
            ],
            "application/vnd.jupyter.widget-view+json": {
              "version_major": 2,
              "version_minor": 0,
              "model_id": "a8be294a77c1453bb75dc43fc8b9d05b"
            }
          },
          "metadata": {}
        }
      ],
      "source": [
        "tokenizer = AutoTokenizer.from_pretrained('distilgpt2')\n",
        "model = AutoModelForCausalLM.from_pretrained('distilgpt2')"
      ]
    },
    {
      "cell_type": "markdown",
      "id": "91bd8087",
      "metadata": {
        "id": "91bd8087"
      },
      "source": [
        "This might take a little while! The Transformers library downloads the model when you call the `.from_pretrained()` method, and some of the models are very large. (DistilGPT2, at 300MB, is on the small side.) The library will cache these files for later, so you won't need to download them again on the same machine.\n",
        "\n",
        "Once you have the tokenizer and the model, you can create a Transformers *pipeline*. A pipeline groups together and abstracts away the intermediate steps of a machine learning procedure. The Transformers library has [many types of pipeline](https://huggingface.co/transformers/main_classes/pipelines.html), but we're going to create a text generation pipeline, using the model and tokenizer that we just loaded. Here's what it looks like:"
      ]
    },
    {
      "cell_type": "code",
      "execution_count": null,
      "id": "68e0808e",
      "metadata": {
        "id": "68e0808e"
      },
      "outputs": [],
      "source": [
        "generator = pipeline('text-generation', model=model, tokenizer=tokenizer)"
      ]
    },
    {
      "cell_type": "markdown",
      "id": "d838707a",
      "metadata": {
        "id": "d838707a"
      },
      "source": [
        "Having created this pipeline, we can use it to generate text by calling the pipeline object as though it were a function. The parameter that you pass in is the \"prompt\"—i.e., the text whose completion you want to predict."
      ]
    },
    {
      "cell_type": "code",
      "execution_count": null,
      "id": "ead3d4a1",
      "metadata": {
        "id": "ead3d4a1",
        "outputId": "43d9241e-c2ae-4ea8-a392-a1082d402771"
      },
      "outputs": [
        {
          "name": "stderr",
          "output_type": "stream",
          "text": [
            "Setting `pad_token_id` to `eos_token_id`:50256 for open-end generation.\n"
          ]
        },
        {
          "data": {
            "text/plain": [
              "[{'generated_text': 'Two roads diverged in a yellow wood, and the red-colored wooden road was on both sides of the road.\\n\\n\\nA police officer is believed to have responded to a report of a road accident on January 24th near a village near'}]"
            ]
          },
          "execution_count": 4,
          "metadata": {},
          "output_type": "execute_result"
        }
      ],
      "source": [
        "generator(\"Two roads diverged in a yellow wood, and\")"
      ]
    },
    {
      "cell_type": "markdown",
      "id": "2852f414",
      "metadata": {
        "id": "2852f414"
      },
      "source": [
        "This call returns a list of dictionaries, where each dictionary has a key `generated_text` whose value is the text that was generated. If you just want the generated string, you can do this:"
      ]
    },
    {
      "cell_type": "code",
      "execution_count": null,
      "id": "16f15e4a",
      "metadata": {
        "id": "16f15e4a",
        "outputId": "f0e6f88f-1c16-4d2f-d844-06cb51ee06ea"
      },
      "outputs": [
        {
          "name": "stderr",
          "output_type": "stream",
          "text": [
            "Setting `pad_token_id` to `eos_token_id`:50256 for open-end generation.\n"
          ]
        },
        {
          "data": {
            "text/plain": [
              "'Two roads diverged in a yellow wood, and the trees were a little dark on some sides of the road.\\n\\n\\nThe road had been closed for six days.'"
            ]
          },
          "execution_count": 5,
          "metadata": {},
          "output_type": "execute_result"
        }
      ],
      "source": [
        "generator(\"Two roads diverged in a yellow wood, and\")[0]['generated_text']"
      ]
    },
    {
      "cell_type": "markdown",
      "id": "2cd63531",
      "metadata": {
        "id": "2cd63531"
      },
      "source": [
        "There are other parameters that you can pass to the text generation pipeline—basically, you can pass in any of the parameters that you could pass to a causal language model's [.generate() method](https://huggingface.co/transformers/main_classes/model.html#transformers.generation_tf_utils.TFGenerationMixin.generate). We'll go over those parameters in a second, but before we do so, I think it'll be helpful to take a step back and examine what exactly is happening in the generation process."
      ]
    },
    {
      "cell_type": "markdown",
      "id": "0dade853",
      "metadata": {
        "id": "0dade853"
      },
      "source": [
        "## Tokenization\n",
        "\n",
        "Machine learning models don't work on text directly; instead, they operate on numbers that correspond to parts of a text. Breaking a text up into enumerable parts is called *tokenization*. In this class, we've already explored several easy and common forms of tokenization, e.g., breaking a text up into characters, or breaking a text up into words. Most machine learning models now use a form of *sub-word* tokenization, in which a text is broken up into units that don't neatly correspond to either individual characters or whole words. The tokenization procedure itself is derived from statistical properties of the corpus—so tokenizers are, in a sense, \"trained\" in the same way that a machine learning model is. (This is why you have to load the tokenizer, the same way you load a model.)\n",
        "\n",
        "A tokenizer has a *vocabulary*, which is the set of all possible unique tokens that the tokenizer recognizes. You can examine the vocabulary by calling the tokenizer's `.get_vocab()` method:"
      ]
    },
    {
      "cell_type": "code",
      "execution_count": null,
      "id": "97b04c3d",
      "metadata": {
        "id": "97b04c3d"
      },
      "outputs": [],
      "source": [
        "vocab = tokenizer.get_vocab()"
      ]
    },
    {
      "cell_type": "markdown",
      "id": "25e1b432",
      "metadata": {
        "id": "25e1b432"
      },
      "source": [
        "Use `len()` to see how many items are in the vocabulary:"
      ]
    },
    {
      "cell_type": "code",
      "execution_count": null,
      "id": "91c47f0b",
      "metadata": {
        "id": "91c47f0b",
        "outputId": "f7e4c3cd-5cfb-4ad7-8914-9099d53162d0"
      },
      "outputs": [
        {
          "data": {
            "text/plain": [
              "50257"
            ]
          },
          "execution_count": 7,
          "metadata": {},
          "output_type": "execute_result"
        }
      ],
      "source": [
        "len(vocab)"
      ]
    },
    {
      "cell_type": "markdown",
      "id": "379643e5",
      "metadata": {
        "id": "379643e5"
      },
      "source": [
        "The vocabulary is returned as a dictionary that maps tokens to their IDs. Let's just take a peek into what that looks like. I'm going to randomly sample a few items from the dictionary, like so:"
      ]
    },
    {
      "cell_type": "code",
      "execution_count": null,
      "id": "05ca6ef7",
      "metadata": {
        "id": "05ca6ef7",
        "outputId": "94e67322-59cb-4fc7-b327-3fa2ff96acb0"
      },
      "outputs": [
        {
          "data": {
            "text/plain": [
              "[('341', 33660),\n",
              " ('Ġplayer', 2137),\n",
              " ('roach', 28562),\n",
              " ('ĠRobotics', 47061),\n",
              " ('isition', 10027),\n",
              " ('ĠClothing', 48921),\n",
              " ('ĠJac', 8445),\n",
              " ('Ġtame', 37812),\n",
              " ('acc', 4134),\n",
              " ('EDIT', 24706)]"
            ]
          },
          "execution_count": 9,
          "metadata": {},
          "output_type": "execute_result"
        }
      ],
      "source": [
        "import random\n",
        "random.sample(vocab.items(), 10)"
      ]
    },
    {
      "cell_type": "markdown",
      "id": "08fd6338",
      "metadata": {
        "id": "08fd6338"
      },
      "source": [
        "The results look pretty weird, and there a bunch of things to explain. First off, let's discuss the mysterious `Ġ` character. Subword tokenizers generally don't start off with information about where word boundaries occur; instead, they \"learn\" word boundaries as part of the process of \"training\" the tokenizer. The `Ġ` character is a special character that represents a space. Second, we can see that in many cases, the subword tokenizer does actually end up with tokens in its vocabulary that represent entire words. However, in other cases, we end up with what look like word *parts*. This is by design! Because some tokens represent word parts, the tokenizer can potentially encode *any* word—even words that were not present in the original corpus—by tokenizing that word as a sequence of parts.\n",
        "\n",
        "To demonstrate, let's actually encode a string with the tokenizer using its `.encode()` method. Just pass in a string, and you'll get back a list of IDs:"
      ]
    },
    {
      "cell_type": "code",
      "execution_count": null,
      "id": "c5812cc0",
      "metadata": {
        "id": "c5812cc0",
        "outputId": "7eeaebfe-a623-431a-d765-b3cf8353c3c0"
      },
      "outputs": [
        {
          "data": {
            "text/plain": [
              "[3856,\n",
              " 2946,\n",
              " 0,\n",
              " 1052,\n",
              " 435,\n",
              " 397,\n",
              " 1603,\n",
              " 281,\n",
              " 368,\n",
              " 505,\n",
              " 13,\n",
              " 1168,\n",
              " 3019,\n",
              " 89,\n",
              " 499,\n",
              " 0]"
            ]
          },
          "execution_count": 10,
          "metadata": {},
          "output_type": "execute_result"
        }
      ],
      "source": [
        "src = \"Behold! An alabaster anemone. Zzzzap!\"\n",
        "tokenizer.encode(src)"
      ]
    },
    {
      "cell_type": "markdown",
      "id": "321708f1",
      "metadata": {
        "id": "321708f1"
      },
      "source": [
        "The tokenizer encodes this string of four words into sixteen tokens. You can find the token corresponding to the ID using the tokenizer's `.decode()` method:"
      ]
    },
    {
      "cell_type": "code",
      "execution_count": null,
      "id": "cd960280",
      "metadata": {
        "id": "cd960280",
        "outputId": "2c65c456-4b1d-4aed-ecc5-352911ea36f0"
      },
      "outputs": [
        {
          "data": {
            "text/plain": [
              "'aster'"
            ]
          },
          "execution_count": 11,
          "metadata": {},
          "output_type": "execute_result"
        }
      ],
      "source": [
        "tokenizer.decode(1603)"
      ]
    },
    {
      "cell_type": "markdown",
      "id": "89a1eee3",
      "metadata": {
        "id": "89a1eee3"
      },
      "source": [
        "With this, we can see how the tokenizer broke up the original string into units:"
      ]
    },
    {
      "cell_type": "code",
      "execution_count": null,
      "id": "98903ac0",
      "metadata": {
        "id": "98903ac0",
        "outputId": "6ee53fe7-72c3-422d-e208-b1c448ad763d"
      },
      "outputs": [
        {
          "name": "stdout",
          "output_type": "stream",
          "text": [
            "3856 → 'Be'\n",
            "2946 → 'hold'\n",
            "0 → '!'\n",
            "1052 → ' An'\n",
            "435 → ' al'\n",
            "397 → 'ab'\n",
            "1603 → 'aster'\n",
            "281 → ' an'\n",
            "368 → 'em'\n",
            "505 → 'one'\n",
            "13 → '.'\n",
            "1168 → ' Z'\n",
            "3019 → 'zz'\n",
            "89 → 'z'\n",
            "499 → 'ap'\n",
            "0 → '!'\n"
          ]
        }
      ],
      "source": [
        "for token_id in tokenizer.encode(src):\n",
        "    print(token_id, \"→\", \"'\" + tokenizer.decode(token_id) + \"'\")"
      ]
    },
    {
      "cell_type": "markdown",
      "id": "8db8217a",
      "metadata": {
        "id": "8db8217a"
      },
      "source": [
        "(I included quotation marks in this output to emphasize the fact that the text of the token includes whitespace.)\n",
        "\n",
        "You can decode an entire list of IDs using the `.decode()` function as well:"
      ]
    },
    {
      "cell_type": "code",
      "execution_count": null,
      "id": "6f994593",
      "metadata": {
        "id": "6f994593",
        "outputId": "8142d4d5-bc9a-45b9-b9f0-6c1832166678"
      },
      "outputs": [
        {
          "data": {
            "text/plain": [
              "'Behold! An alabaster anemone. Zzzzap!'"
            ]
          },
          "execution_count": 13,
          "metadata": {},
          "output_type": "execute_result"
        }
      ],
      "source": [
        "token_ids = tokenizer.encode(src)\n",
        "tokenizer.decode(token_ids)"
      ]
    },
    {
      "cell_type": "markdown",
      "id": "618ffe34",
      "metadata": {
        "id": "618ffe34"
      },
      "source": [
        "For fun, get the tokenizer to decode a list of random token IDs:"
      ]
    },
    {
      "cell_type": "code",
      "execution_count": null,
      "id": "35384952",
      "metadata": {
        "id": "35384952",
        "outputId": "78f88412-de7f-4ca1-c856-dba119cdfb51"
      },
      "outputs": [
        {
          "data": {
            "text/plain": [
              "' Viktor mimiczanne Bentleypoint Bee Awakening candJP redumann Labor'"
            ]
          },
          "execution_count": 14,
          "metadata": {},
          "output_type": "execute_result"
        }
      ],
      "source": [
        "tokenizer.decode(random.sample(list(vocab.values()), 12))"
      ]
    },
    {
      "cell_type": "markdown",
      "id": "338d7e58",
      "metadata": {
        "id": "338d7e58"
      },
      "source": [
        "Another way to tokenize a text is to call the tokenizer as though it's a function, passing in a list of strings as an argument:"
      ]
    },
    {
      "cell_type": "code",
      "execution_count": null,
      "id": "adaec157",
      "metadata": {
        "id": "adaec157",
        "outputId": "f3cc7462-909b-4370-f666-97b1ffab882c"
      },
      "outputs": [
        {
          "data": {
            "text/plain": [
              "{'input_ids': tensor([[5661,  318,  257, 1332],\n",
              "        [5661,  318, 1194, 1332]]), 'attention_mask': tensor([[1, 1, 1, 1],\n",
              "        [1, 1, 1, 1]])}"
            ]
          },
          "execution_count": 15,
          "metadata": {},
          "output_type": "execute_result"
        }
      ],
      "source": [
        "tokenizer([\"this is a test\", \"this is another test\"], return_tensors=\"pt\")"
      ]
    },
    {
      "cell_type": "markdown",
      "id": "c973a65f",
      "metadata": {
        "id": "c973a65f"
      },
      "source": [
        "The value returned here is a dictionary in the format that the model is expecting, if you want to run the model \"by hand\" instead of using a pipeline, which is what we're going to do below. The `return_tensors` parameter directs the tokenizer to return the results as a PyTorch tensor instead of a Python list, which is also a requirement for passing the values directly to the model."
      ]
    },
    {
      "cell_type": "markdown",
      "id": "1c78ce45",
      "metadata": {
        "id": "1c78ce45"
      },
      "source": [
        "## Generation in more detail (advanced, but interesting)\n",
        "\n",
        "So what's actually happening when you ask the model to generate text is this: you encode the prompt as a sequence of IDs using the tokenizer, and then the model assigns a probability to every token in the tokenizer's vocabulary, based on which tokens it thinks are most likely to come next. Here's what it looks like to run that process \"by hand,\" so to speak. First, create the prompt:"
      ]
    },
    {
      "cell_type": "code",
      "execution_count": null,
      "id": "f3c65459",
      "metadata": {
        "id": "f3c65459"
      },
      "outputs": [],
      "source": [
        "prompt = \"Two roads diverged in a yellow wood, and\""
      ]
    },
    {
      "cell_type": "markdown",
      "id": "1eed01b9",
      "metadata": {
        "id": "1eed01b9"
      },
      "source": [
        "Then encode the prompt as a sequence of token IDs:"
      ]
    },
    {
      "cell_type": "code",
      "execution_count": null,
      "id": "3de8d01d",
      "metadata": {
        "id": "3de8d01d"
      },
      "outputs": [],
      "source": [
        "prompt_encoded = tokenizer([prompt], return_tensors=\"pt\")"
      ]
    },
    {
      "cell_type": "code",
      "execution_count": null,
      "id": "35b6f910",
      "metadata": {
        "scrolled": true,
        "id": "35b6f910",
        "outputId": "157b30a4-c63b-4195-be06-32691a3847f4"
      },
      "outputs": [
        {
          "data": {
            "text/plain": [
              "{'input_ids': tensor([[ 7571,  9725, 12312,  2004,   287,   257,  7872,  4898,    11,   290]]), 'attention_mask': tensor([[1, 1, 1, 1, 1, 1, 1, 1, 1, 1]])}"
            ]
          },
          "execution_count": 18,
          "metadata": {},
          "output_type": "execute_result"
        }
      ],
      "source": [
        "prompt_encoded"
      ]
    },
    {
      "cell_type": "markdown",
      "id": "17d893e3",
      "metadata": {
        "id": "17d893e3"
      },
      "source": [
        "Then we call the model as though it were a function, passing in the key/value pairs that the tokenizer returned as parameters (using [Python's `**` operator](https://docs.python.org/3/tutorial/controlflow.html#unpacking-argument-lists)):"
      ]
    },
    {
      "cell_type": "code",
      "execution_count": null,
      "id": "7f145c1f",
      "metadata": {
        "id": "7f145c1f"
      },
      "outputs": [],
      "source": [
        "result = model(**prompt_encoded)"
      ]
    },
    {
      "cell_type": "markdown",
      "id": "d2e13385",
      "metadata": {
        "id": "d2e13385"
      },
      "source": [
        "The value returned from calling the model is an object with various attributes that we could examine. I'm most interested in `.logits`, which is a PyTorch tensor that contains information about the probability that the model assigned to each vocabulary item. (\"Tensor\" btw is just a fancy word for \"array with a bunch of dimensions.\") The prediction for the next token can be found in the very last row of this tensor:"
      ]
    },
    {
      "cell_type": "code",
      "execution_count": null,
      "id": "67979471",
      "metadata": {
        "id": "67979471",
        "outputId": "17b65389-778c-4064-d3a6-a4b51bb5903b"
      },
      "outputs": [
        {
          "data": {
            "text/plain": [
              "tensor([-75.0658, -73.7585, -76.3894,  ..., -75.8365, -73.6258, -73.6459],\n",
              "       grad_fn=<SelectBackward>)"
            ]
          },
          "execution_count": 20,
          "metadata": {},
          "output_type": "execute_result"
        }
      ],
      "source": [
        "next_token_probs = result.logits[0,-1]\n",
        "next_token_probs"
      ]
    },
    {
      "cell_type": "markdown",
      "id": "56d2cfd7",
      "metadata": {
        "id": "56d2cfd7"
      },
      "source": [
        "The scores are shown in \"raw\" form, meaning that they don't have the kinds of values that we would normally associate with a probability distribution (i.e., multiple options all adding up to one). But we can still compare them in this state. Higher numbers mean higher probability.\n",
        "\n",
        "This tensor has a shape that corresponds to the number of vocabulary items:"
      ]
    },
    {
      "cell_type": "code",
      "execution_count": null,
      "id": "7c7770a9",
      "metadata": {
        "id": "7c7770a9",
        "outputId": "a6dbf7c2-b2b3-4d62-941e-5631205479ec"
      },
      "outputs": [
        {
          "data": {
            "text/plain": [
              "torch.Size([50257])"
            ]
          },
          "execution_count": 21,
          "metadata": {},
          "output_type": "execute_result"
        }
      ],
      "source": [
        "next_token_probs.shape"
      ]
    },
    {
      "cell_type": "markdown",
      "id": "20efcde3",
      "metadata": {
        "id": "20efcde3"
      },
      "source": [
        "And we can actually inquire about the probability of particular tokens by looking them up. The code in the following cells uses the tokenizer's `.encode()` method to convert a token to its ID, then looks up the ID by index in the array with the predictions. (The `.item()` call converts the resulting PyTorch tensor to a native Python value, which just makes the result a bit easier to look at.)"
      ]
    },
    {
      "cell_type": "code",
      "execution_count": null,
      "id": "a54d3d07",
      "metadata": {
        "id": "a54d3d07",
        "outputId": "c7277e11-4533-45a4-fd54-4e51f3eb0a40"
      },
      "outputs": [
        {
          "data": {
            "text/plain": [
              "-63.117549896240234"
            ]
          },
          "execution_count": 22,
          "metadata": {},
          "output_type": "execute_result"
        }
      ],
      "source": [
        "next_token_probs[tokenizer.encode(' the')].item()"
      ]
    },
    {
      "cell_type": "code",
      "execution_count": null,
      "id": "258b656e",
      "metadata": {
        "id": "258b656e",
        "outputId": "8b19ca68-82df-42e5-b2bc-f9eb0375b5cb"
      },
      "outputs": [
        {
          "data": {
            "text/plain": [
              "-73.56358337402344"
            ]
          },
          "execution_count": 23,
          "metadata": {},
          "output_type": "execute_result"
        }
      ],
      "source": [
        "next_token_probs[tokenizer.encode(' x')].item()"
      ]
    },
    {
      "cell_type": "code",
      "execution_count": null,
      "id": "35266957",
      "metadata": {
        "id": "35266957",
        "outputId": "e4fd6ea9-d87f-44f5-86cb-77efed17e0f1"
      },
      "outputs": [
        {
          "data": {
            "text/plain": [
              "-66.07609558105469"
            ]
          },
          "execution_count": 24,
          "metadata": {},
          "output_type": "execute_result"
        }
      ],
      "source": [
        "next_token_probs[tokenizer.encode(' an')].item()"
      ]
    },
    {
      "cell_type": "markdown",
      "id": "ce625991",
      "metadata": {
        "id": "ce625991"
      },
      "source": [
        "We can see that the tokens ` the` and ` an` have fairly high probability, while the token ` x` has low probability.  Interesting!\n",
        "\n",
        "### Generating text, the home-grown way\n",
        "\n",
        "Using the PyTorch library, we can get a list of the most likely tokens to come next. (This has some dark magic in it if you're not familiar with PyTorch—or another array processing library like NumPy—so... just trust me for a sec.)"
      ]
    },
    {
      "cell_type": "code",
      "execution_count": null,
      "id": "c0cff0a4",
      "metadata": {
        "id": "c0cff0a4",
        "outputId": "9de85392-7fa2-4e99-8a1c-ce9d8f4e2337"
      },
      "outputs": [
        {
          "name": "stdout",
          "output_type": "stream",
          "text": [
            "' the'\n",
            "' a'\n",
            "' two'\n",
            "' one'\n",
            "' it'\n",
            "' were'\n",
            "' some'\n",
            "' there'\n",
            "' they'\n",
            "' in'\n",
            "' then'\n",
            "' another'\n"
          ]
        }
      ],
      "source": [
        "import torch\n",
        "for idx in reversed(torch.argsort(next_token_probs)[-12:]):\n",
        "    print(\"'\" + tokenizer.decode(idx) + \"'\")"
      ]
    },
    {
      "cell_type": "markdown",
      "id": "97c8cc46",
      "metadata": {
        "id": "97c8cc46"
      },
      "source": [
        "(Again, I've added in the quotation marks so you can clearly see that these tokens have whitespace at the beginning.) These are the top twelve tokens to come next in the sequence, as predicted by the model. One way to *generate* a text would be to take one of these tokens—maybe the top-scoring token, maybe one of the top *n* picked at random, append it to our original list of tokens, ask the model to make a prediction on *that* list of tokens, and repeat. The loop would look something like this:"
      ]
    },
    {
      "cell_type": "code",
      "execution_count": null,
      "id": "165247bd",
      "metadata": {
        "id": "165247bd",
        "outputId": "3a8fe70d-776f-4c10-8fca-a0b22430f804"
      },
      "outputs": [
        {
          "name": "stdout",
          "output_type": "stream",
          "text": [
            "Two roads diverged in a yellow wood, and the\n",
            "Two roads diverged in a yellow wood, and the water\n",
            "Two roads diverged in a yellow wood, and the water had\n",
            "Two roads diverged in a yellow wood, and the water had a\n",
            "Two roads diverged in a yellow wood, and the water had a high\n",
            "Two roads diverged in a yellow wood, and the water had a high degree\n",
            "Two roads diverged in a yellow wood, and the water had a high degree and\n",
            "Two roads diverged in a yellow wood, and the water had a high degree and high\n",
            "Two roads diverged in a yellow wood, and the water had a high degree and high levels\n",
            "Two roads diverged in a yellow wood, and the water had a high degree and high levels to\n"
          ]
        }
      ],
      "source": [
        "prompt = \"Two roads diverged in a yellow wood, and\"\n",
        "for i in range(10):\n",
        "    # encode the prompt\n",
        "    prompt_encoded = tokenizer([prompt], return_tensors=\"pt\")\n",
        "    # run a forward pass on the network\n",
        "    result = model(**prompt_encoded)\n",
        "    # get the probabilities for the next word\n",
        "    next_token_probs = result.logits[0,-1]\n",
        "    # sort by value, get the top 12 (you can change this number! try 1, or 1000)\n",
        "    nexts = torch.argsort(next_token_probs)[-12:]\n",
        "    # append the decoded ID to the current prompt\n",
        "    prompt += tokenizer.decode(random.choice(nexts))\n",
        "    print(prompt)"
      ]
    },
    {
      "cell_type": "markdown",
      "id": "73fb8fb9",
      "metadata": {
        "id": "73fb8fb9"
      },
      "source": [
        "### The `.generate()` method\n",
        "\n",
        "Our home-grown solution above does the job, but it's very rudimentary. Because generating text is such a common use-case, the Transformers library provides a `.generate()` method that is quite fast and also has a bunch of bells and whistles that we can exploit to add expressiveness to our use of the language model. Under the hood, though, the `.generate()` method is essentially doing exactly what we did above—iteratively constructing a string based on predicted tokens from the model. Use the `.generate()` method like this:"
      ]
    },
    {
      "cell_type": "code",
      "execution_count": null,
      "id": "40aea2d3",
      "metadata": {
        "id": "40aea2d3",
        "outputId": "26bb28e3-8705-444a-daec-e8a85882c4bf"
      },
      "outputs": [
        {
          "name": "stderr",
          "output_type": "stream",
          "text": [
            "Setting `pad_token_id` to `eos_token_id`:50256 for open-end generation.\n"
          ]
        },
        {
          "data": {
            "text/plain": [
              "\"Two roads diverged in a yellow wood, and over the course of the past month's traffic jam in the United States with more than 1 million drivers from 18 states.\\n\\n\\n\\n\\n\\n\\n\\n\\n\\n\\n\\n\\n\\n\\n\\n\""
            ]
          },
          "execution_count": 29,
          "metadata": {},
          "output_type": "execute_result"
        }
      ],
      "source": [
        "prompt = \"Two roads diverged in a yellow wood, and\"\n",
        "prompt_encoded = tokenizer(prompt, return_tensors=\"pt\") # the \"return_tensors\" thing is important!\n",
        "result = model.generate(**prompt_encoded)[0]\n",
        "tokenizer.decode(result, skip_special_tokens=True)"
      ]
    },
    {
      "cell_type": "markdown",
      "id": "e92aef49",
      "metadata": {
        "id": "e92aef49"
      },
      "source": [
        "For a more detailed overview of all of the ways you can use `.generate()`, see [How to generate](https://huggingface.co/blog/how-to-generate) on the Hugging Face blog. One argument of `.generate()` that is useful right off the bat is `max_length`, which continues the generation process for the number of tokens you specify:"
      ]
    },
    {
      "cell_type": "code",
      "execution_count": null,
      "id": "144cc102",
      "metadata": {
        "id": "144cc102",
        "outputId": "344b753d-98f5-4066-896b-2f028ddd91a3"
      },
      "outputs": [
        {
          "name": "stderr",
          "output_type": "stream",
          "text": [
            "Setting `pad_token_id` to `eos_token_id`:50256 for open-end generation.\n"
          ]
        },
        {
          "data": {
            "text/plain": [
              "'Two roads diverged in a yellow wood, and over the edge of an ice cube, the police found the body of a boy in the bushes in the middle of the road. The woman is not being identified.\\n\\n\\n\\nA 26-year-old man was charged with first-degree murder after authorities said he was found in a snowboard.\\n\\nPolice say, with an estimated 10,000 residents, the area around the snowboard became unsafe.\\n\"There could have been more than two dozen people out there and several other people running through, and it was a lot more dangerous that maybe one or two more people from other communities were all moving through,\" the New York State Police spokesperson said.\\nAccording to the New York City Police Department, the driver involved in the incident was identified as a 43-year-old man.\\n\"The victim was transported to hospitals and transported to Albany Hospital where he is in stable condition,\" New York State Police said in a statement.\\n\"There have been many reports of minor injuries and there is no further information as to the cause of the incident.\"'"
            ]
          },
          "execution_count": 30,
          "metadata": {},
          "output_type": "execute_result"
        }
      ],
      "source": [
        "prompt = \"Two roads diverged in a yellow wood, and\"\n",
        "prompt_encoded = tokenizer(prompt, return_tensors=\"pt\")\n",
        "result = model.generate(**prompt_encoded, max_length=250)[0]\n",
        "tokenizer.decode(result, skip_special_tokens=True)"
      ]
    },
    {
      "cell_type": "markdown",
      "id": "ea940807",
      "metadata": {
        "id": "ea940807"
      },
      "source": [
        "### Back to the pipeline\n",
        "\n",
        "The process of encoding the prompt and decoding the results is pretty tedious. That's why the \"pipeline\" was invented. The `text-generation` pipeline takes care of encoding and decoding for you. Create a pipeline by calling `pipeline` with `text-generation` as the first parameter, and then the model and tokenizer that you want to use:"
      ]
    },
    {
      "cell_type": "code",
      "execution_count": null,
      "id": "5b73ec86",
      "metadata": {
        "id": "5b73ec86"
      },
      "outputs": [],
      "source": [
        "generator = pipeline('text-generation', model=model, tokenizer=tokenizer)"
      ]
    },
    {
      "cell_type": "markdown",
      "id": "bbb3539f",
      "metadata": {
        "id": "bbb3539f"
      },
      "source": [
        "And then you can generate text with the pipeline. The first argument is the prompt; any remaining parameters will be forwarded to the model's `.generate()` method."
      ]
    },
    {
      "cell_type": "code",
      "execution_count": null,
      "id": "f7c8e6a2",
      "metadata": {
        "scrolled": true,
        "id": "f7c8e6a2",
        "outputId": "9cf7f013-9afe-4f2f-f73e-7cc91e8ca989"
      },
      "outputs": [
        {
          "name": "stderr",
          "output_type": "stream",
          "text": [
            "Setting `pad_token_id` to `eos_token_id`:50256 for open-end generation.\n"
          ]
        },
        {
          "data": {
            "text/plain": [
              "[{'generated_text': 'Two roads diverged in a yellow Toyota Camry that was reported missing Sunday.\\n\\n\\n\\n\\n\\n\\n\\n\\n\\n\\n\\n\\n\\n\\n\\n\\n\\n\\n\\n\\n\\n\\n\\n\\n\\n\\n\\n\\n\\n\\n\\n\\n\\n\\n\\n\\n\\n\\n\\n\\n\\n\\n\\n\\n\\n\\n\\n\\n\\n\\n\\n\\n\\n\\n\\n\\n\\n\\n\\n\\n\\n\\n\\n\\n\\n\\n\\n\\n\\n\\n\\n\\n\\n\\n\\n\\n\\n\\n\\n\\n\\n\\n\\n'}]"
            ]
          },
          "execution_count": 32,
          "metadata": {},
          "output_type": "execute_result"
        }
      ],
      "source": [
        "generator(\"Two roads diverged in a yellow\",\n",
        "          max_length=100)"
      ]
    },
    {
      "cell_type": "markdown",
      "id": "e5f4cc74",
      "metadata": {
        "id": "e5f4cc74"
      },
      "source": [
        "As a reminder, to get the actual generated text, use indexing to get the value of the dictionary in the list returned from the pipeline:"
      ]
    },
    {
      "cell_type": "code",
      "execution_count": null,
      "id": "93ef297e",
      "metadata": {
        "id": "93ef297e",
        "outputId": "bf0b25c9-67ff-4bff-c210-92fa9b05fcd7"
      },
      "outputs": [
        {
          "name": "stderr",
          "output_type": "stream",
          "text": [
            "Setting `pad_token_id` to `eos_token_id`:50256 for open-end generation.\n"
          ]
        },
        {
          "data": {
            "text/plain": [
              "\"Two roads diverged in a yellow car. The SUV ended up in the back of the car, then left behind.\\n\\n\\n\\n\\nThe police say driver of the car crashed into a busy road between the city of Vancouver and Queenstown. One man said three people with yellow plates on their faces ran to the scene.\\nTwo vehicles were caught on video smashing into pedestrians.\\nAnyone with information is asked to call Detective Inspector Dave O'Brien at 722-370-6278.\""
            ]
          },
          "execution_count": 33,
          "metadata": {},
          "output_type": "execute_result"
        }
      ],
      "source": [
        "generator(\"Two roads diverged in a yellow\",\n",
        "          max_length=100)[0]['generated_text']"
      ]
    },
    {
      "cell_type": "markdown",
      "id": "6e84bb46",
      "metadata": {
        "id": "6e84bb46"
      },
      "source": [
        "## Controlling the model\n",
        "\n",
        "By default, the `distilgpt2` model samples from the possible next tokens, weighted by the probability assigned to that token. This strategy leads to text that shows a good deal of variety, but there are strategies that we can use and parameters that we can tweak to exert a little more control over the model's output. In this section, I show a few of these strategies.\n",
        "\n",
        "### The magic of the prompt\n",
        "\n",
        "Transformer models are often able to follow up on cues you give about the desired content and style of the text in the prompt itself. The smaller transformer models aren't especially good at this, but it's still worth playing around with. For example, to get `distilgpt2` to generate something that looks like a movie review:"
      ]
    },
    {
      "cell_type": "code",
      "execution_count": null,
      "id": "9f51c882",
      "metadata": {
        "id": "9f51c882",
        "outputId": "8ac0ccb5-dfb8-4fb8-acaa-bf79e91774f7"
      },
      "outputs": [
        {
          "name": "stderr",
          "output_type": "stream",
          "text": [
            "Setting `pad_token_id` to `eos_token_id`:50256 for open-end generation.\n"
          ]
        },
        {
          "name": "stdout",
          "output_type": "stream",
          "text": [
            "My review of The Road Not Taken, the Movie: The Next Generation’s most celebrated film. The film, which is a remake of a 1982, 1991, 1993, 2002, 2006 and 2010 film starring James Mazzarri and John Tapper, debuted as the worst box office gross for any movie in 2008. The only other film to get a second Oscar since it became the most controversial movie of all time was a 2009 sequel as well. A box office gross of $24.\n"
          ]
        }
      ],
      "source": [
        "print(generator(\"My review of The Road Not Taken, the Movie:\", max_length=100)[0]['generated_text'])"
      ]
    },
    {
      "cell_type": "markdown",
      "id": "d643be14",
      "metadata": {
        "id": "d643be14"
      },
      "source": [
        "You can also generate dialogues and interview transcripts:"
      ]
    },
    {
      "cell_type": "code",
      "execution_count": null,
      "id": "0295ee5c",
      "metadata": {
        "id": "0295ee5c",
        "outputId": "ad66009c-5b98-451a-d47c-b135bd469d18"
      },
      "outputs": [
        {
          "name": "stderr",
          "output_type": "stream",
          "text": [
            "Setting `pad_token_id` to `eos_token_id`:50256 for open-end generation.\n"
          ]
        },
        {
          "name": "stdout",
          "output_type": "stream",
          "text": [
            "Allison: I took the road less traveled by.\n",
            "Robert Frost: I went through three hours. I only ate my own steak two days before they finished.\n",
            "Mason: I ate up the rest of the day.\n",
            "Mason: Oh my god, this was my first chance at food justice!\n",
            "The third week, you saw me, I took the road less traveled by. The first week, you saw me, I took the road less traveled by. The second week,\n"
          ]
        }
      ],
      "source": [
        "print(generator(\"Allison: I took the road less traveled by.\\nRobert Frost:\",\n",
        "                max_length=100)[0]['generated_text'])"
      ]
    },
    {
      "cell_type": "markdown",
      "id": "06de3603",
      "metadata": {
        "id": "06de3603"
      },
      "source": [
        "Poetry facts:"
      ]
    },
    {
      "cell_type": "code",
      "execution_count": null,
      "id": "cfc9a4c0",
      "metadata": {
        "id": "cfc9a4c0",
        "outputId": "d697c47f-de81-4b52-9c83-495fdc499bcc"
      },
      "outputs": [
        {
          "name": "stderr",
          "output_type": "stream",
          "text": [
            "Setting `pad_token_id` to `eos_token_id`:50256 for open-end generation.\n"
          ]
        },
        {
          "name": "stdout",
          "output_type": "stream",
          "text": [
            "My favorite facts about poetry:\n",
            "\n",
            "1. The earliest examples of poetry were of an American poet\n",
            "2. The writers of Shakespeare and his works\n",
            "3. The best examples are the first, and in a very short time, the only one that would explain the history of poetry to which it was written. There are only two types of poetry: poetry.\n",
            "Some of the first is the modern one . It is the most popular of the three. There is the \"Pornographic Po\n"
          ]
        }
      ],
      "source": [
        "print(generator(\"My favorite facts about poetry:\\n\\n1.\",\n",
        "                max_length=100)[0]['generated_text'])"
      ]
    },
    {
      "cell_type": "markdown",
      "id": "2e80b074",
      "metadata": {
        "id": "2e80b074"
      },
      "source": [
        "In general, this kind of prompting works best with texts that are likely to have a lot of representation in the training corpus."
      ]
    },
    {
      "cell_type": "markdown",
      "id": "81363f7a",
      "metadata": {
        "id": "81363f7a"
      },
      "source": [
        "### Sampling with temperature\n",
        "\n",
        "As mentioned above, the `distilgpt2` model, by default, picks the next token at random, weighted by the probability that the model assigns to the word. To demonstrate how this works, let's imagine that the model only has five tokens in its vocabulary (instead of 50,000+). A schematic illustration of those probabilities might look like this:\n",
        "\n",
        "    prompt: Whose woods these are I think I\n",
        "    probabilities:\n",
        "        know -> 0.5\n",
        "        knew -> 0.2\n",
        "        smell -> 0.15\n",
        "        see -> 0.1\n",
        "        am -> 0.05\n"
      ]
    },
    {
      "cell_type": "markdown",
      "id": "15474aa6",
      "metadata": {
        "id": "15474aa6"
      },
      "source": [
        "The probabilities will add up to `1.0`. A probability of `0.5` indicates that the token has a 50% probability of coming next; a probability of 0.2 means that the token has a 20% probability of coming next, etc. Here are those probabilities represented in Python as two lists—one with the words, and one with the probabilities that correspond to those words by index:"
      ]
    },
    {
      "cell_type": "code",
      "execution_count": null,
      "id": "67854938",
      "metadata": {
        "id": "67854938"
      },
      "outputs": [],
      "source": [
        "tokens = ['know', 'knew', 'smell', 'see', 'am']\n",
        "probs = [0.5, 0.2, 0.15, 0.1, 0.05]"
      ]
    },
    {
      "cell_type": "markdown",
      "id": "f95c6404",
      "metadata": {
        "id": "f95c6404"
      },
      "source": [
        "By default, to select the next token, the generation code picks from this list weighted by probability. The code to do this with PyTorch looks like this:"
      ]
    },
    {
      "cell_type": "code",
      "execution_count": null,
      "id": "b9f85011",
      "metadata": {
        "id": "b9f85011",
        "outputId": "93803f01-8a81-440d-8f20-eeb8df7a30fc"
      },
      "outputs": [
        {
          "name": "stdout",
          "output_type": "stream",
          "text": [
            "know\n"
          ]
        }
      ],
      "source": [
        "index = torch.multinomial(torch.tensor(probs), 1).item()\n",
        "print(tokens[index])"
      ]
    },
    {
      "cell_type": "markdown",
      "id": "636e2d8c",
      "metadata": {
        "id": "636e2d8c"
      },
      "source": [
        "You don't have to worry about the specifics of this code—I'm just using it to demonstrate how the sampling process works. Run the code a few times and you'll see that about half the time you get \"knew\"—the token with the highest probability. Running the code in a loop makes this a bit easier to see:"
      ]
    },
    {
      "cell_type": "code",
      "execution_count": null,
      "id": "af732dd1",
      "metadata": {
        "id": "af732dd1",
        "outputId": "c2a5ee57-bac6-47f4-88e9-68225bfa1b4e"
      },
      "outputs": [
        {
          "name": "stdout",
          "output_type": "stream",
          "text": [
            "see\n",
            "know\n",
            "know\n",
            "know\n",
            "know\n",
            "know\n",
            "smell\n",
            "knew\n",
            "see\n",
            "know\n"
          ]
        }
      ],
      "source": [
        "for i in range(10):\n",
        "    index = torch.multinomial(torch.tensor(probs), 1).item()\n",
        "    print(tokens[index])"
      ]
    },
    {
      "cell_type": "markdown",
      "id": "d12d2fcf",
      "metadata": {
        "id": "d12d2fcf"
      },
      "source": [
        "The generation process has a parameter called *temperature*, which lets you shift the probability distribution of the next token before it's sampled. If the temperature parameter is `1.0`, then sampling will proceed as normal, with the tokens weighted by their estimated probability. If the temperature parameter is less than `1.0`, then tokens that were already probable will get *more* probable. If the temperature parameter is greater than `1.0`, then the probabilities start to even out, approaching a uniform distribution (meaning that no token is more likely to be chosen than any other). To demonstrate this, I've written some code below that applies temperature to the probabilities defined above, and shows the resulting changes:"
      ]
    },
    {
      "cell_type": "code",
      "execution_count": null,
      "id": "2fa5775f",
      "metadata": {
        "id": "2fa5775f",
        "outputId": "d4da86d5-dd45-4a47-9c87-f12f33a135e6"
      },
      "outputs": [
        {
          "name": "stdout",
          "output_type": "stream",
          "text": [
            "temperature 0.10\n",
            "know   → 1.00\n",
            "knew   → 0.00\n",
            "smell  → 0.00\n",
            "see    → 0.00\n",
            "am     → 0.00\n",
            "\n",
            "temperature 0.35\n",
            "know   → 0.90\n",
            "knew   → 0.07\n",
            "smell  → 0.03\n",
            "see    → 0.01\n",
            "am     → 0.00\n",
            "\n",
            "temperature 1.00\n",
            "know   → 0.50\n",
            "knew   → 0.20\n",
            "smell  → 0.15\n",
            "see    → 0.10\n",
            "am     → 0.05\n",
            "\n",
            "temperature 2.00\n",
            "know   → 0.34\n",
            "knew   → 0.21\n",
            "smell  → 0.19\n",
            "see    → 0.15\n",
            "am     → 0.11\n",
            "\n",
            "temperature 50.00\n",
            "know   → 0.20\n",
            "knew   → 0.20\n",
            "smell  → 0.20\n",
            "see    → 0.20\n",
            "am     → 0.20\n",
            "\n"
          ]
        }
      ],
      "source": [
        "for temperature in [0.1, 0.35, 1.0, 2.0, 50.0]:\n",
        "    modified = torch.softmax(\n",
        "        torch.log(torch.tensor(probs)) / temperature, dim=-1)\n",
        "    print(f\"temperature {temperature:0.02f}\")\n",
        "    for tok, prob in zip(tokens, modified):\n",
        "        print(tok.ljust(6), \"→\", f\"{prob:0.002f}\")\n",
        "    print()"
      ]
    },
    {
      "cell_type": "markdown",
      "id": "7c095c57",
      "metadata": {
        "id": "7c095c57"
      },
      "source": [
        "You can see that at temperature `1.0`, the probabilities are identical to the original. At temperature `0.35`, the probability of the most likely token has been boosted, but the other tokens still have a small chance of occurring. At temperature `0.1`, only the most likely token has a chance of being selected. At temperature `2.0`, the most likely token is still the most likely, but the probabilities of the other tokens have been boosted in comparison; at temperature `50.0`, no token is considered to be more likely than any other.\n",
        "\n",
        "To apply temperature sampling to the model when generating text, pass the `temperature` parameter to the pipeline, like so:"
      ]
    },
    {
      "cell_type": "code",
      "execution_count": null,
      "id": "13c5bccd",
      "metadata": {
        "id": "13c5bccd",
        "outputId": "dbdd6c64-fb8d-4bc4-bff0-d9ef76e40f6e"
      },
      "outputs": [
        {
          "name": "stderr",
          "output_type": "stream",
          "text": [
            "Setting `pad_token_id` to `eos_token_id`:50256 for open-end generation.\n"
          ]
        },
        {
          "data": {
            "text/plain": [
              "'Two roads diverged in a yellowish blue sky.\\n\\n\\n\\n\\n\\n\\n\\n\\n\\n\\n\\n\\n\\n\\n\\n\\n\\n\\n\\n\\n\\n\\n\\n\\n\\n\\n\\n\\n\\n\\n\\n\\n\\n\\n\\n\\n\\n\\n\\n\\n\\n\\n\\n\\n\\n\\n\\n\\n\\n\\n\\n\\n\\n\\n\\n\\n\\n\\n\\n\\n\\n\\n\\n\\n\\n\\n\\n\\n\\n\\n\\n\\n\\n\\n\\n\\n\\n\\n\\n\\n\\n\\n\\n\\n\\n\\n\\n\\n'"
            ]
          },
          "execution_count": 45,
          "metadata": {},
          "output_type": "execute_result"
        }
      ],
      "source": [
        "generator(\"Two roads diverged in a yellow\",\n",
        "          temperature=0.1,\n",
        "          max_length=100)[0]['generated_text']"
      ]
    },
    {
      "cell_type": "markdown",
      "id": "2b94bd84",
      "metadata": {
        "id": "2b94bd84"
      },
      "source": [
        "Low temperatures generally produce predictable, repetitive results. Here's an attempt with high temperature:"
      ]
    },
    {
      "cell_type": "code",
      "execution_count": null,
      "id": "93298377",
      "metadata": {
        "id": "93298377",
        "outputId": "f8b68f6b-430d-4b13-829e-29e5856a382c"
      },
      "outputs": [
        {
          "name": "stderr",
          "output_type": "stream",
          "text": [
            "Setting `pad_token_id` to `eos_token_id`:50256 for open-end generation.\n"
          ]
        },
        {
          "data": {
            "text/plain": [
              "'Two roads diverged in a yellow Tumbalo Lake and the surrounding region, though that might soon cease there.\" This would explain both changes – perhaps some other reason there is concern,\" Foulberg tells BuzzFeed on Twitter by telepath and to several in town\\'s suburbs.\"There doesn\\'t say very much. This new trailway system allows everyone – no surprise to those of you at HomeStory\" to get inside (though she would explain how they chose to be left unpallmed instead on a'"
            ]
          },
          "execution_count": 46,
          "metadata": {},
          "output_type": "execute_result"
        }
      ],
      "source": [
        "generator(\"Two roads diverged in a yellow\",\n",
        "          temperature=4.0,\n",
        "          max_length=100)[0]['generated_text']"
      ]
    },
    {
      "cell_type": "markdown",
      "id": "61a379f7",
      "metadata": {
        "id": "61a379f7"
      },
      "source": [
        "The higher temperature example produces less likely sequences of words, so the text is a bit livelier—sometimes at the cost of coherence.\n",
        "\n",
        "Adjusting the temperature can be useful when you want the text to be more or less \"weird.\" It can be helpful to adjust the temperature downward when you feel as though the model is producing text that is a bit too unpredictable; it can be helpful to adjust upward when you want to model to take more unexpected turns when generating."
      ]
    },
    {
      "cell_type": "markdown",
      "id": "22b2500c",
      "metadata": {
        "id": "22b2500c"
      },
      "source": [
        "### Top-k sampling\n",
        "\n",
        "By default, the generation process only selects from the top 50 most probable tokens at each step. This is called \"top-k filtering.\" Because of top-k filtering, you're not likely to sample truly unusual tokens even when the temperature is high. You can adjust the threshold for top-k filtering with the `top_k` parameter of the model. For example, adjusting `top_k` to the number of items in the vocabulary ensures that every token gets its chance:"
      ]
    },
    {
      "cell_type": "code",
      "execution_count": null,
      "id": "bf4d73cb",
      "metadata": {
        "id": "bf4d73cb",
        "outputId": "ead78671-152b-4a21-b0c6-084e6095a8b5"
      },
      "outputs": [
        {
          "name": "stderr",
          "output_type": "stream",
          "text": [
            "Setting `pad_token_id` to `eos_token_id`:50256 for open-end generation.\n"
          ]
        },
        {
          "data": {
            "text/plain": [
              "'Two roads diverged in a yellow car. Other passengers have been seriously injured. Two men ferry the motorway to Tanong — which ended in the Palbeyan River in the city of Tanong. (Photo: Dan Crafts/Times Free Press) Story Highlights Tanong migrant workers evacuated\\n\\n\\n\\n\\n\\n\\n\\n\\n\\n\\n\\n\\n\\n\\n\\n\\n\\n\\n\\n\\n\\n\\n\\n\\n\\n\\n\\n\\n\\n\\n\\n\\n\\n\\n\\n\\n\\n\\n\\n\\n'"
            ]
          },
          "execution_count": 47,
          "metadata": {},
          "output_type": "execute_result"
        }
      ],
      "source": [
        "generator(\"Two roads diverged in a yellow\",\n",
        "          top_k=tokenizer.vocab_size,\n",
        "          max_length=100)[0]['generated_text']"
      ]
    },
    {
      "cell_type": "markdown",
      "id": "1fa7b265",
      "metadata": {
        "id": "1fa7b265"
      },
      "source": [
        "Using this with a temperature greater than `1.0` can yield some unusual turns of phrase:"
      ]
    },
    {
      "cell_type": "code",
      "execution_count": null,
      "id": "0b690453",
      "metadata": {
        "id": "0b690453",
        "outputId": "cab08002-9191-4293-873e-547134fc713e"
      },
      "outputs": [
        {
          "name": "stderr",
          "output_type": "stream",
          "text": [
            "Setting `pad_token_id` to `eos_token_id`:50256 for open-end generation.\n"
          ]
        },
        {
          "data": {
            "text/plain": [
              "'Two roads diverged in a yellow Oueconomy helicopter Apr. 3, 2012 sitting in an unharmed location near coal age swings towards Associated Recording Studios, Calif. As Ulamofar Raiolini shrinks, stuttered civilians evacuate into the hills because militants have been linked there. Photo by Evan Vucci/MHz 2,927 Teenage Leaves Blocks Per Extremely Late Soon Iowa state GOP redistributed voters from dynamrodlot which only drives regional branches of U.S. state. more'"
            ]
          },
          "execution_count": 48,
          "metadata": {},
          "output_type": "execute_result"
        }
      ],
      "source": [
        "generator(\"Two roads diverged in a yellow\",\n",
        "          top_k=tokenizer.vocab_size,\n",
        "          temperature=1.2,\n",
        "          max_length=100)[0]['generated_text']"
      ]
    },
    {
      "cell_type": "markdown",
      "id": "1843eaef",
      "metadata": {
        "id": "1843eaef"
      },
      "source": [
        "On the other extreme, setting the `top_k` value to `1` ensures that *only* the most likely token is chosen at each step. This is the same thing as [\"greedy decoding\"](https://huggingface.co/transformers/main_classes/model.html#transformers.generation_utils.GenerationMixin.greedy_search):"
      ]
    },
    {
      "cell_type": "code",
      "execution_count": null,
      "id": "ef3b18b7",
      "metadata": {
        "id": "ef3b18b7",
        "outputId": "eab90918-ce7a-4505-8003-460ae5c1036a"
      },
      "outputs": [
        {
          "name": "stderr",
          "output_type": "stream",
          "text": [
            "Setting `pad_token_id` to `eos_token_id`:50256 for open-end generation.\n"
          ]
        },
        {
          "data": {
            "text/plain": [
              "'Two roads diverged in a yellow light, and the police were called to the scene.\\n\\n\\n\\n\\n\\n\\n\\n\\n\\n\\n\\n\\n\\n\\n\\n\\n\\n\\n\\n\\n\\n\\n\\n\\n\\n\\n\\n\\n\\n\\n\\n\\n\\n\\n\\n\\n\\n\\n\\n\\n\\n\\n\\n\\n\\n\\n\\n\\n\\n\\n\\n\\n\\n\\n\\n\\n\\n\\n\\n\\n\\n\\n\\n\\n\\n\\n\\n\\n\\n\\n\\n\\n\\n\\n\\n\\n\\n\\n\\n\\n\\n'"
            ]
          },
          "execution_count": 49,
          "metadata": {},
          "output_type": "execute_result"
        }
      ],
      "source": [
        "generator(\"Two roads diverged in a yellow\",\n",
        "          top_k=1,\n",
        "          max_length=100)[0]['generated_text']"
      ]
    },
    {
      "cell_type": "markdown",
      "id": "4e343fed",
      "metadata": {
        "id": "4e343fed"
      },
      "source": [
        "Playing around with `top_k` and `temperature` in tandem is a good way to make adjustments to the texture of your generated text."
      ]
    },
    {
      "cell_type": "markdown",
      "id": "3d87511e",
      "metadata": {
        "id": "3d87511e"
      },
      "source": [
        "### Logit warping: Exclude \"bad\" words\n",
        "\n",
        "The `.generate()` method has a parameter called `bad_words_ids`, which causes the model to zero out the probabilities of tokens associated with words that you pass in. The intended use of this feature is to stop the model from generating offensive or harmful words. But we can also repurpose it for poetic purposes. For example, in the cell below, I make the model complete the prompt \"It was a dark and stormy\" *without* using the words \"night\" or \"day\":"
      ]
    },
    {
      "cell_type": "code",
      "execution_count": null,
      "id": "e691ce3e",
      "metadata": {
        "id": "e691ce3e",
        "outputId": "7700ed8c-5232-4682-df67-31e787275204"
      },
      "outputs": [
        {
          "name": "stderr",
          "output_type": "stream",
          "text": [
            "Setting `pad_token_id` to `eos_token_id`:50256 for open-end generation.\n"
          ]
        },
        {
          "data": {
            "text/plain": [
              "\"It was a dark and stormy storm that set off the town of Nizke. The village of Nizke was deserted and abandoned. The village's people had fled, but they did not understand it. Then when they could finally reach N\""
            ]
          },
          "execution_count": 50,
          "metadata": {},
          "output_type": "execute_result"
        }
      ],
      "source": [
        "generator(\"It was a dark and stormy\",\n",
        "          bad_words_ids=tokenizer([\" night\", \" day\"]).input_ids)[0]['generated_text']"
      ]
    },
    {
      "cell_type": "markdown",
      "id": "4cdc646c",
      "metadata": {
        "id": "4cdc646c"
      },
      "source": [
        "The syntax for specifying the \"bad words\" is to call the tokenizer on a list of words that you want to exclude, and then get the `.input_ids` attribute of the value returned from calling the tokenizer. This yields a list of lists that looks like this:"
      ]
    },
    {
      "cell_type": "code",
      "execution_count": null,
      "id": "8a18221f",
      "metadata": {
        "id": "8a18221f",
        "outputId": "91af73ae-6da7-4cc5-be62-cc03b820aa55"
      },
      "outputs": [
        {
          "data": {
            "text/plain": [
              "[[3237, 1653], [47, 3258, 680]]"
            ]
          },
          "execution_count": 51,
          "metadata": {},
          "output_type": "execute_result"
        }
      ],
      "source": [
        "tokenizer([\"Allison\", \"Parrish\"]).input_ids"
      ]
    },
    {
      "cell_type": "markdown",
      "id": "e44e2879",
      "metadata": {
        "id": "e44e2879"
      },
      "source": [
        "Note that I used ` night` and ` day` as the words, with leading spaces—this is necessary because I ended the prompt without whitespace, so the model is likely to generate a token with leading whitespace at the next step. I've found that the `bad_words_ids` parameter works best if your list of words includes versions both with and without whitespace.\n",
        "\n",
        "Here's another example: getting the model to complete a prompt without using any forms of the verb *to be*:"
      ]
    },
    {
      "cell_type": "code",
      "execution_count": null,
      "id": "a5c7fc50",
      "metadata": {
        "id": "a5c7fc50",
        "outputId": "ec83b58a-8812-453d-89a2-e832e7ebef72"
      },
      "outputs": [
        {
          "name": "stderr",
          "output_type": "stream",
          "text": [
            "Setting `pad_token_id` to `eos_token_id`:50256 for open-end generation.\n"
          ]
        },
        {
          "data": {
            "text/plain": [
              "'Once upon a time, on the other end of the planet at the top of a galaxy, it became apparent that the star, the Milky Way, had the same gravitational background as the stars in this study. When those planets moved at great distances from the outside, they made much larger changes to their properties. However, once they reached the core of the Milky Way they began to move farther and farther in the opposite direction, and that distance gained increased further. Finally, before reaching the core of the'"
            ]
          },
          "execution_count": 52,
          "metadata": {},
          "output_type": "execute_result"
        }
      ],
      "source": [
        "generator(\"Once upon a time,\",\n",
        "          bad_words_ids=tokenizer(\n",
        "              [\"be\", \" be\",\n",
        "               \"am\", \" am\",\n",
        "               \"are\", \" are\",\n",
        "               \"is\", \" is\",\n",
        "               \"was\", \" was\",\n",
        "               \"were\", \" were\"]).input_ids,\n",
        "          max_length=100)[0]['generated_text']"
      ]
    },
    {
      "cell_type": "markdown",
      "id": "bec6a2df",
      "metadata": {
        "id": "bec6a2df"
      },
      "source": [
        "You can also create a list of token IDs that you want to exclude on the fly. In the following example, I make a list of token IDs that have the letter `e` in them, and pass that list to the `bad_words_ids` parameter:"
      ]
    },
    {
      "cell_type": "code",
      "execution_count": null,
      "id": "9dd76bc3",
      "metadata": {
        "scrolled": true,
        "id": "9dd76bc3",
        "outputId": "01caceac-b972-4e46-bd30-34604eca18c5"
      },
      "outputs": [
        {
          "name": "stderr",
          "output_type": "stream",
          "text": [
            "Setting `pad_token_id` to `eos_token_id`:50256 for open-end generation.\n"
          ]
        },
        {
          "name": "stdout",
          "output_type": "stream",
          "text": [
            "Last month, I saw a lot of this, and I think it shows just how hard it is to avoid using Bitcoin just by looking at how far off that block diagram can go for Bitcoin's full functionality. First off, I had to go through a lot of data mining, which is why I want to start to look at a small part of why Bitcoin is a cash-only, anonymous, and anonymous Bitcoin.\n",
            "\n",
            "For my first half hour and hour of work, I had to wait\n"
          ]
        }
      ],
      "source": [
        "forbidden_ids = []\n",
        "for key, val in tokenizer.get_vocab().items():\n",
        "    if 'e' in key:\n",
        "        forbidden_ids.append([val]) # needs to be a list of lists\n",
        "print(generator(\"Last month, I\",\n",
        "          bad_words_ids=forbidden_ids,\n",
        "          max_length=100)[0]['generated_text'])"
      ]
    },
    {
      "cell_type": "markdown",
      "id": "5db6369e",
      "metadata": {
        "id": "5db6369e"
      },
      "source": [
        "### Fine-tuning a model\n",
        "\n",
        "\"Fine-tuning\" is a way of slightly modifying a model by training it a few extra steps on a corpus of your choice. This process adjusts the probabilities of the model so that it more closely reflects the probabilities of the source text you train it on. Fine-tuning models with Transformers is a little bit tricky! First, you'll need to install Hugging Face's `datasets` package:"
      ]
    },
    {
      "cell_type": "code",
      "execution_count": null,
      "id": "66e3757c",
      "metadata": {
        "id": "66e3757c"
      },
      "outputs": [],
      "source": [
        "import sys\n",
        "!{sys.executable} -m pip install datasets"
      ]
    },
    {
      "cell_type": "markdown",
      "id": "46e0395a",
      "metadata": {
        "id": "46e0395a"
      },
      "source": [
        "And then import it:"
      ]
    },
    {
      "cell_type": "code",
      "execution_count": null,
      "id": "6f4d68e2",
      "metadata": {
        "id": "6f4d68e2"
      },
      "outputs": [],
      "source": [
        "import datasets"
      ]
    },
    {
      "cell_type": "markdown",
      "id": "3ab81720",
      "metadata": {
        "id": "3ab81720"
      },
      "source": [
        "You'll want to select a text file to fine-tune the model on. Fine-tuning works best on large amounts of text, but fine-tuning is also very slow if you're not using a GPU. For demonstration purposes, I create a special version of [Frankenstein](https://www.gutenberg.org/ebooks/84) that contains only the first 20000 characters, and save it to a file:"
      ]
    },
    {
      "cell_type": "code",
      "execution_count": null,
      "id": "35a2a3c1",
      "metadata": {
        "id": "35a2a3c1"
      },
      "outputs": [],
      "source": [
        "with open(\"84-0-20k.txt\", \"w\") as fh:\n",
        "    fh.write(open(\"84-0.txt\").read()[:20000])"
      ]
    },
    {
      "cell_type": "markdown",
      "id": "1221ac91",
      "metadata": {
        "id": "1221ac91"
      },
      "source": [
        "Then I load this text file as my fine-tuning dataset:"
      ]
    },
    {
      "cell_type": "code",
      "execution_count": null,
      "id": "9a037218",
      "metadata": {
        "id": "9a037218",
        "outputId": "e2e3ea94-8a6c-4ac4-a969-0a9d5c386ad0",
        "colab": {
          "referenced_widgets": [
            ""
          ]
        }
      },
      "outputs": [
        {
          "name": "stderr",
          "output_type": "stream",
          "text": [
            "Using custom data configuration default-8396e67af902a1a6\n"
          ]
        },
        {
          "name": "stdout",
          "output_type": "stream",
          "text": [
            "Downloading and preparing dataset text/default (download: Unknown size, generated: Unknown size, post-processed: Unknown size, total: Unknown size) to /Users/allison/.cache/huggingface/datasets/text/default-8396e67af902a1a6/0.0.0/e16f44aa1b321ece1f87b07977cc5d70be93d69b20486d6dacd62e12cf25c9a5...\n"
          ]
        },
        {
          "data": {
            "application/vnd.jupyter.widget-view+json": {
              "model_id": "",
              "version_major": 2,
              "version_minor": 0
            },
            "text/plain": [
              "HBox(children=(FloatProgress(value=1.0, bar_style='info', layout=Layout(width='20px'), max=1.0), HTML(value=''…"
            ]
          },
          "metadata": {},
          "output_type": "display_data"
        },
        {
          "name": "stdout",
          "output_type": "stream",
          "text": [
            "Dataset text downloaded and prepared to /Users/allison/.cache/huggingface/datasets/text/default-8396e67af902a1a6/0.0.0/e16f44aa1b321ece1f87b07977cc5d70be93d69b20486d6dacd62e12cf25c9a5. Subsequent calls will reuse this data.\n"
          ]
        }
      ],
      "source": [
        "training_data = datasets.load_dataset('text', data_files=\"84-0-20k.txt\")"
      ]
    },
    {
      "cell_type": "markdown",
      "id": "b31f0ead",
      "metadata": {
        "id": "b31f0ead"
      },
      "source": [
        "Now, there's a bunch of obligatory processing that we need to do to the data in order to prepare it for the model. This is boilerplate stuff, which I'm not going to go into in detail. If you want details, consult Hugging Face's [fine-tuning language models notebook](https://github.com/huggingface/notebooks/blob/master/examples/language_modeling.ipynb).\n",
        "\n",
        "First, we tokenize the text:"
      ]
    },
    {
      "cell_type": "code",
      "execution_count": null,
      "id": "dc75a5ff",
      "metadata": {
        "id": "dc75a5ff",
        "outputId": "43b23e83-a12f-492c-f344-dffc834094ed",
        "colab": {
          "referenced_widgets": [
            "3725218132264e899ab325843a97800a"
          ]
        }
      },
      "outputs": [
        {
          "data": {
            "application/vnd.jupyter.widget-view+json": {
              "model_id": "3725218132264e899ab325843a97800a",
              "version_major": 2,
              "version_minor": 0
            },
            "text/plain": [
              "HBox(children=(FloatProgress(value=0.0, max=484.0), HTML(value='')))"
            ]
          },
          "metadata": {},
          "output_type": "display_data"
        },
        {
          "name": "stdout",
          "output_type": "stream",
          "text": [
            "\n"
          ]
        }
      ],
      "source": [
        "tokenizer.pad_token = tokenizer.eos_token\n",
        "tokenized_training_data = training_data.map(\n",
        "    lambda x: tokenizer(x['text']),\n",
        "    remove_columns=[\"text\"]\n",
        ")"
      ]
    },
    {
      "cell_type": "markdown",
      "id": "ea41f005",
      "metadata": {
        "id": "ea41f005"
      },
      "source": [
        "Then we break the tokenized text up into batches of tokens:"
      ]
    },
    {
      "cell_type": "code",
      "execution_count": null,
      "id": "595b9bf0",
      "metadata": {
        "id": "595b9bf0",
        "outputId": "d301e1b8-9717-4c20-b6b2-9a9495e50207",
        "colab": {
          "referenced_widgets": [
            "3e480a0a0dd946e6ad0b0f9099abb724"
          ]
        }
      },
      "outputs": [
        {
          "data": {
            "application/vnd.jupyter.widget-view+json": {
              "model_id": "3e480a0a0dd946e6ad0b0f9099abb724",
              "version_major": 2,
              "version_minor": 0
            },
            "text/plain": [
              "HBox(children=(FloatProgress(value=0.0, max=3.0), HTML(value='')))"
            ]
          },
          "metadata": {},
          "output_type": "display_data"
        },
        {
          "name": "stdout",
          "output_type": "stream",
          "text": [
            "\n"
          ]
        }
      ],
      "source": [
        "block_size = 64\n",
        "# magic from https://github.com/huggingface/notebooks/blob/master/examples/language_modeling.ipynb\n",
        "def group_texts(examples):\n",
        "    concatenated_examples = {k: sum(examples[k], []) for k in examples.keys()}\n",
        "    total_length = len(concatenated_examples[list(examples.keys())[0]])\n",
        "    total_length = (total_length // block_size) * block_size\n",
        "    result = {\n",
        "        k: [t[i : i + block_size] for i in range(0, total_length, block_size)]\n",
        "        for k, t in concatenated_examples.items()\n",
        "    }\n",
        "    result[\"labels\"] = result[\"input_ids\"].copy()\n",
        "    return result\n",
        "lm_training_data = tokenized_training_data.map(\n",
        "    group_texts,\n",
        "    batched=True,\n",
        "    batch_size=200\n",
        ")"
      ]
    },
    {
      "cell_type": "markdown",
      "id": "5e522074",
      "metadata": {
        "id": "5e522074"
      },
      "source": [
        "Now we import the `Trainer` class, which implements a training loop."
      ]
    },
    {
      "cell_type": "code",
      "execution_count": null,
      "id": "eee70cb2",
      "metadata": {
        "id": "eee70cb2"
      },
      "outputs": [],
      "source": [
        "from transformers import Trainer, TrainingArguments"
      ]
    },
    {
      "cell_type": "markdown",
      "id": "a12058c0",
      "metadata": {
        "id": "a12058c0"
      },
      "source": [
        "Running the following cell creates the `Trainer` object. The `output_dir` parameter specifies a directory where your fine-tuned model will be saved. The `num_train_epochs` sets how many \"epochs\" the trainer will run; one epoch is one iteration over the entire dataset. More epochs is better, but even one epoch can significantly change the way the model generates text."
      ]
    },
    {
      "cell_type": "code",
      "execution_count": null,
      "id": "6d5359f1",
      "metadata": {
        "id": "6d5359f1"
      },
      "outputs": [],
      "source": [
        "trainer = Trainer(model=model,\n",
        "                  train_dataset=lm_training_data['train'],\n",
        "                  args=TrainingArguments(\n",
        "                      output_dir='distilgpt2-finetune-frankenstein20k',\n",
        "                      num_train_epochs=1,\n",
        "                      do_train=True,\n",
        "                      do_eval=False\n",
        "                  ),\n",
        "                  tokenizer=tokenizer)"
      ]
    },
    {
      "cell_type": "markdown",
      "id": "22076634",
      "metadata": {
        "id": "22076634"
      },
      "source": [
        "Finally, the cell below will start the training process. If you're running this on a computer without a GPU, it will take a while. You can open this notebook on [Google Colab](http://colab.research.google.com/) if you want and take advantage of the free GPU that Google lets you use."
      ]
    },
    {
      "cell_type": "code",
      "execution_count": null,
      "id": "a0a974bb",
      "metadata": {
        "scrolled": false,
        "id": "a0a974bb",
        "outputId": "4d9c2173-f6d5-43de-c5ae-702ea6c11ef9"
      },
      "outputs": [
        {
          "name": "stderr",
          "output_type": "stream",
          "text": [
            "***** Running training *****\n",
            "  Num examples = 67\n",
            "  Num Epochs = 1\n",
            "  Instantaneous batch size per device = 8\n",
            "  Total train batch size (w. parallel, distributed & accumulation) = 8\n",
            "  Gradient Accumulation steps = 1\n",
            "  Total optimization steps = 9\n"
          ]
        },
        {
          "data": {
            "text/html": [
              "\n",
              "    <div>\n",
              "      \n",
              "      <progress value='9' max='9' style='width:300px; height:20px; vertical-align: middle;'></progress>\n",
              "      [9/9 00:50, Epoch 1/1]\n",
              "    </div>\n",
              "    <table border=\"1\" class=\"dataframe\">\n",
              "  <thead>\n",
              "    <tr style=\"text-align: left;\">\n",
              "      <th>Step</th>\n",
              "      <th>Training Loss</th>\n",
              "    </tr>\n",
              "  </thead>\n",
              "  <tbody>\n",
              "  </tbody>\n",
              "</table><p>"
            ],
            "text/plain": [
              "<IPython.core.display.HTML object>"
            ]
          },
          "metadata": {},
          "output_type": "display_data"
        },
        {
          "name": "stderr",
          "output_type": "stream",
          "text": [
            "\n",
            "\n",
            "Training completed. Do not forget to share your model on huggingface.co/models =)\n",
            "\n",
            "\n"
          ]
        },
        {
          "data": {
            "text/plain": [
              "TrainOutput(global_step=9, training_loss=4.9099070231119795, metrics={'train_runtime': 56.9456, 'train_samples_per_second': 1.177, 'train_steps_per_second': 0.158, 'total_flos': 2107446755328.0, 'train_loss': 4.9099070231119795, 'epoch': 1.0})"
            ]
          },
          "execution_count": 61,
          "metadata": {},
          "output_type": "execute_result"
        }
      ],
      "source": [
        "trainer.train()"
      ]
    },
    {
      "cell_type": "markdown",
      "id": "bda411f7",
      "metadata": {
        "id": "bda411f7"
      },
      "source": [
        "Running the cell below will save the model to disk:"
      ]
    },
    {
      "cell_type": "code",
      "execution_count": null,
      "id": "f18e00fe",
      "metadata": {
        "id": "f18e00fe",
        "outputId": "ad7fec15-cc2c-4d92-baa4-dae031143d96"
      },
      "outputs": [
        {
          "name": "stderr",
          "output_type": "stream",
          "text": [
            "Saving model checkpoint to distilgpt2-finetune-frankenstein20k\n",
            "Configuration saved in distilgpt2-finetune-frankenstein20k/config.json\n",
            "Model weights saved in distilgpt2-finetune-frankenstein20k/pytorch_model.bin\n",
            "tokenizer config file saved in distilgpt2-finetune-frankenstein20k/tokenizer_config.json\n",
            "Special tokens file saved in distilgpt2-finetune-frankenstein20k/special_tokens_map.json\n"
          ]
        }
      ],
      "source": [
        "trainer.save_model()"
      ]
    },
    {
      "cell_type": "markdown",
      "id": "474a59af",
      "metadata": {
        "id": "474a59af"
      },
      "source": [
        "Now you can generate with the fine-tuned model! The fine-tuning process modifies the model in-place, so the `pipeline` you created before will make use of the fine-tuned model. (Note that if you want to get the original `distilgpt2` back, you'll need to reload it with the `.from_pretrained()` method, as demonstrated at the top of the notebook.)"
      ]
    },
    {
      "cell_type": "code",
      "execution_count": null,
      "id": "6f7769a0",
      "metadata": {
        "id": "6f7769a0",
        "outputId": "c60e682f-91e1-4feb-9cbe-4b395653a0d9"
      },
      "outputs": [
        {
          "name": "stderr",
          "output_type": "stream",
          "text": [
            "Setting `pad_token_id` to `eos_token_id`:50256 for open-end generation.\n"
          ]
        },
        {
          "data": {
            "text/plain": [
              "'Two roads diverged in a yellow.\\n\\n\\n\\nAt a glance, I could not say what I was. I tried to hold my breaths, and felt a sense of peace that seemed to me an odd thing. I tried to keep my composure.\\nThe distance between them was far beyond my comprehension, and so, then, seemed to the most of my life. As if I had always wished to stay home, as though the weather was different, I had no space for my own'"
            ]
          },
          "execution_count": 64,
          "metadata": {},
          "output_type": "execute_result"
        }
      ],
      "source": [
        "generator(\"Two roads diverged in a yellow\", max_length=100)[0]['generated_text']"
      ]
    },
    {
      "cell_type": "markdown",
      "id": "798333f5",
      "metadata": {
        "id": "798333f5"
      },
      "source": [
        "You can see that fine-tuning on even a small dataset produces big changes in the model.\n",
        "\n",
        "If you want to use your fine-tuned model in another project, use the same syntax that we used above to load `distilgpt2`—just replace `distilgpt2` with the name of the directory where you saved your model:"
      ]
    },
    {
      "cell_type": "code",
      "execution_count": null,
      "id": "ed9960c9",
      "metadata": {
        "id": "ed9960c9",
        "outputId": "c3e01d69-fafd-4f78-e549-452b392be4fc"
      },
      "outputs": [
        {
          "name": "stderr",
          "output_type": "stream",
          "text": [
            "Didn't find file distilgpt2-finetune-frankenstein20k/added_tokens.json. We won't load it.\n",
            "loading file distilgpt2-finetune-frankenstein20k/vocab.json\n",
            "loading file distilgpt2-finetune-frankenstein20k/merges.txt\n",
            "loading file distilgpt2-finetune-frankenstein20k/tokenizer.json\n",
            "loading file None\n",
            "loading file distilgpt2-finetune-frankenstein20k/special_tokens_map.json\n",
            "loading file distilgpt2-finetune-frankenstein20k/tokenizer_config.json\n",
            "loading configuration file distilgpt2-finetune-frankenstein20k/config.json\n",
            "Model config GPT2Config {\n",
            "  \"_name_or_path\": \"distilgpt2\",\n",
            "  \"_num_labels\": 1,\n",
            "  \"activation_function\": \"gelu_new\",\n",
            "  \"architectures\": [\n",
            "    \"GPT2LMHeadModel\"\n",
            "  ],\n",
            "  \"attn_pdrop\": 0.1,\n",
            "  \"bos_token_id\": 50256,\n",
            "  \"do_sample\": true,\n",
            "  \"embd_pdrop\": 0.1,\n",
            "  \"eos_token_id\": 50256,\n",
            "  \"gradient_checkpointing\": false,\n",
            "  \"id2label\": {\n",
            "    \"0\": \"LABEL_0\"\n",
            "  },\n",
            "  \"initializer_range\": 0.02,\n",
            "  \"label2id\": {\n",
            "    \"LABEL_0\": 0\n",
            "  },\n",
            "  \"layer_norm_epsilon\": 1e-05,\n",
            "  \"max_length\": 50,\n",
            "  \"model_type\": \"gpt2\",\n",
            "  \"n_ctx\": 1024,\n",
            "  \"n_embd\": 768,\n",
            "  \"n_head\": 12,\n",
            "  \"n_inner\": null,\n",
            "  \"n_layer\": 6,\n",
            "  \"n_positions\": 1024,\n",
            "  \"resid_pdrop\": 0.1,\n",
            "  \"scale_attn_weights\": true,\n",
            "  \"summary_activation\": null,\n",
            "  \"summary_first_dropout\": 0.1,\n",
            "  \"summary_proj_to_labels\": true,\n",
            "  \"summary_type\": \"cls_index\",\n",
            "  \"summary_use_proj\": true,\n",
            "  \"task_specific_params\": {\n",
            "    \"text-generation\": {\n",
            "      \"do_sample\": true,\n",
            "      \"max_length\": 50\n",
            "    }\n",
            "  },\n",
            "  \"transformers_version\": \"4.8.2\",\n",
            "  \"use_cache\": true,\n",
            "  \"vocab_size\": 50257\n",
            "}\n",
            "\n",
            "loading weights file distilgpt2-finetune-frankenstein20k/pytorch_model.bin\n",
            "All model checkpoint weights were used when initializing GPT2LMHeadModel.\n",
            "\n",
            "All the weights of GPT2LMHeadModel were initialized from the model checkpoint at distilgpt2-finetune-frankenstein20k.\n",
            "If your task is similar to the task the model of the checkpoint was trained on, you can already use GPT2LMHeadModel for predictions without further training.\n"
          ]
        }
      ],
      "source": [
        "my_tokenizer = AutoTokenizer.from_pretrained('distilgpt2-finetune-frankenstein20k')\n",
        "my_model = AutoModelForCausalLM.from_pretrained('distilgpt2-finetune-frankenstein20k')"
      ]
    },
    {
      "cell_type": "markdown",
      "id": "4c62d434",
      "metadata": {
        "id": "4c62d434"
      },
      "source": [
        "Now generate with it:"
      ]
    },
    {
      "cell_type": "code",
      "execution_count": null,
      "id": "201ab0c9",
      "metadata": {
        "id": "201ab0c9"
      },
      "outputs": [],
      "source": [
        "my_generator = pipeline(\"text-generation\", model=my_model, tokenizer=my_tokenizer)"
      ]
    },
    {
      "cell_type": "code",
      "execution_count": null,
      "id": "8de43360",
      "metadata": {
        "id": "8de43360",
        "outputId": "d0c46672-f315-4d7f-f8f9-9845381b5819"
      },
      "outputs": [
        {
          "name": "stderr",
          "output_type": "stream",
          "text": [
            "Setting `pad_token_id` to `eos_token_id`:50256 for open-end generation.\n"
          ]
        },
        {
          "data": {
            "text/plain": [
              "'Two roads diverged in a yellowish haze, and there were only two clear roadways crossing east of the river. As the sky fell and the ground was darkened, the wind blew a terrible wind; but it soon returned to the east where he'"
            ]
          },
          "execution_count": 68,
          "metadata": {},
          "output_type": "execute_result"
        }
      ],
      "source": [
        "my_generator(\"Two roads diverged in a yellow\")[0]['generated_text']"
      ]
    }
  ],
  "metadata": {
    "kernelspec": {
      "display_name": "Python 3",
      "language": "python",
      "name": "python3"
    },
    "language_info": {
      "codemirror_mode": {
        "name": "ipython",
        "version": 3
      },
      "file_extension": ".py",
      "mimetype": "text/x-python",
      "name": "python",
      "nbconvert_exporter": "python",
      "pygments_lexer": "ipython3",
      "version": "3.8.10"
    },
    "colab": {
      "provenance": []
    },
    "widgets": {
      "application/vnd.jupyter.widget-state+json": {
        "7ad5806d6aca464794586b56351d27e6": {
          "model_module": "@jupyter-widgets/controls",
          "model_name": "HBoxModel",
          "model_module_version": "1.5.0",
          "state": {
            "_dom_classes": [],
            "_model_module": "@jupyter-widgets/controls",
            "_model_module_version": "1.5.0",
            "_model_name": "HBoxModel",
            "_view_count": null,
            "_view_module": "@jupyter-widgets/controls",
            "_view_module_version": "1.5.0",
            "_view_name": "HBoxView",
            "box_style": "",
            "children": [
              "IPY_MODEL_3f2a0cf44ba84856841b9a1c6cb83636",
              "IPY_MODEL_0c66de7e5f1f47d78c4a7a5e5894ffd2",
              "IPY_MODEL_32c1f7a0c2614bd6a9354f741df26734"
            ],
            "layout": "IPY_MODEL_29cb334d7a9644cca7b2d68735a4f8b2"
          }
        },
        "3f2a0cf44ba84856841b9a1c6cb83636": {
          "model_module": "@jupyter-widgets/controls",
          "model_name": "HTMLModel",
          "model_module_version": "1.5.0",
          "state": {
            "_dom_classes": [],
            "_model_module": "@jupyter-widgets/controls",
            "_model_module_version": "1.5.0",
            "_model_name": "HTMLModel",
            "_view_count": null,
            "_view_module": "@jupyter-widgets/controls",
            "_view_module_version": "1.5.0",
            "_view_name": "HTMLView",
            "description": "",
            "description_tooltip": null,
            "layout": "IPY_MODEL_9181a4e624594b8b9a5df1074f9a43c6",
            "placeholder": "​",
            "style": "IPY_MODEL_89515e603bae4aef9134fe1c2d77643b",
            "value": "tokenizer_config.json: 100%"
          }
        },
        "0c66de7e5f1f47d78c4a7a5e5894ffd2": {
          "model_module": "@jupyter-widgets/controls",
          "model_name": "FloatProgressModel",
          "model_module_version": "1.5.0",
          "state": {
            "_dom_classes": [],
            "_model_module": "@jupyter-widgets/controls",
            "_model_module_version": "1.5.0",
            "_model_name": "FloatProgressModel",
            "_view_count": null,
            "_view_module": "@jupyter-widgets/controls",
            "_view_module_version": "1.5.0",
            "_view_name": "ProgressView",
            "bar_style": "success",
            "description": "",
            "description_tooltip": null,
            "layout": "IPY_MODEL_7887e0f404fa4b8e8218c2e611fa1830",
            "max": 26,
            "min": 0,
            "orientation": "horizontal",
            "style": "IPY_MODEL_2fb2edf12499428385a94ca9436113ef",
            "value": 26
          }
        },
        "32c1f7a0c2614bd6a9354f741df26734": {
          "model_module": "@jupyter-widgets/controls",
          "model_name": "HTMLModel",
          "model_module_version": "1.5.0",
          "state": {
            "_dom_classes": [],
            "_model_module": "@jupyter-widgets/controls",
            "_model_module_version": "1.5.0",
            "_model_name": "HTMLModel",
            "_view_count": null,
            "_view_module": "@jupyter-widgets/controls",
            "_view_module_version": "1.5.0",
            "_view_name": "HTMLView",
            "description": "",
            "description_tooltip": null,
            "layout": "IPY_MODEL_3ab54adc70114fd29a39b828dba3df3c",
            "placeholder": "​",
            "style": "IPY_MODEL_e83464f96aa74c5bb7d64678d9967681",
            "value": " 26.0/26.0 [00:00&lt;00:00, 1.12kB/s]"
          }
        },
        "29cb334d7a9644cca7b2d68735a4f8b2": {
          "model_module": "@jupyter-widgets/base",
          "model_name": "LayoutModel",
          "model_module_version": "1.2.0",
          "state": {
            "_model_module": "@jupyter-widgets/base",
            "_model_module_version": "1.2.0",
            "_model_name": "LayoutModel",
            "_view_count": null,
            "_view_module": "@jupyter-widgets/base",
            "_view_module_version": "1.2.0",
            "_view_name": "LayoutView",
            "align_content": null,
            "align_items": null,
            "align_self": null,
            "border": null,
            "bottom": null,
            "display": null,
            "flex": null,
            "flex_flow": null,
            "grid_area": null,
            "grid_auto_columns": null,
            "grid_auto_flow": null,
            "grid_auto_rows": null,
            "grid_column": null,
            "grid_gap": null,
            "grid_row": null,
            "grid_template_areas": null,
            "grid_template_columns": null,
            "grid_template_rows": null,
            "height": null,
            "justify_content": null,
            "justify_items": null,
            "left": null,
            "margin": null,
            "max_height": null,
            "max_width": null,
            "min_height": null,
            "min_width": null,
            "object_fit": null,
            "object_position": null,
            "order": null,
            "overflow": null,
            "overflow_x": null,
            "overflow_y": null,
            "padding": null,
            "right": null,
            "top": null,
            "visibility": null,
            "width": null
          }
        },
        "9181a4e624594b8b9a5df1074f9a43c6": {
          "model_module": "@jupyter-widgets/base",
          "model_name": "LayoutModel",
          "model_module_version": "1.2.0",
          "state": {
            "_model_module": "@jupyter-widgets/base",
            "_model_module_version": "1.2.0",
            "_model_name": "LayoutModel",
            "_view_count": null,
            "_view_module": "@jupyter-widgets/base",
            "_view_module_version": "1.2.0",
            "_view_name": "LayoutView",
            "align_content": null,
            "align_items": null,
            "align_self": null,
            "border": null,
            "bottom": null,
            "display": null,
            "flex": null,
            "flex_flow": null,
            "grid_area": null,
            "grid_auto_columns": null,
            "grid_auto_flow": null,
            "grid_auto_rows": null,
            "grid_column": null,
            "grid_gap": null,
            "grid_row": null,
            "grid_template_areas": null,
            "grid_template_columns": null,
            "grid_template_rows": null,
            "height": null,
            "justify_content": null,
            "justify_items": null,
            "left": null,
            "margin": null,
            "max_height": null,
            "max_width": null,
            "min_height": null,
            "min_width": null,
            "object_fit": null,
            "object_position": null,
            "order": null,
            "overflow": null,
            "overflow_x": null,
            "overflow_y": null,
            "padding": null,
            "right": null,
            "top": null,
            "visibility": null,
            "width": null
          }
        },
        "89515e603bae4aef9134fe1c2d77643b": {
          "model_module": "@jupyter-widgets/controls",
          "model_name": "DescriptionStyleModel",
          "model_module_version": "1.5.0",
          "state": {
            "_model_module": "@jupyter-widgets/controls",
            "_model_module_version": "1.5.0",
            "_model_name": "DescriptionStyleModel",
            "_view_count": null,
            "_view_module": "@jupyter-widgets/base",
            "_view_module_version": "1.2.0",
            "_view_name": "StyleView",
            "description_width": ""
          }
        },
        "7887e0f404fa4b8e8218c2e611fa1830": {
          "model_module": "@jupyter-widgets/base",
          "model_name": "LayoutModel",
          "model_module_version": "1.2.0",
          "state": {
            "_model_module": "@jupyter-widgets/base",
            "_model_module_version": "1.2.0",
            "_model_name": "LayoutModel",
            "_view_count": null,
            "_view_module": "@jupyter-widgets/base",
            "_view_module_version": "1.2.0",
            "_view_name": "LayoutView",
            "align_content": null,
            "align_items": null,
            "align_self": null,
            "border": null,
            "bottom": null,
            "display": null,
            "flex": null,
            "flex_flow": null,
            "grid_area": null,
            "grid_auto_columns": null,
            "grid_auto_flow": null,
            "grid_auto_rows": null,
            "grid_column": null,
            "grid_gap": null,
            "grid_row": null,
            "grid_template_areas": null,
            "grid_template_columns": null,
            "grid_template_rows": null,
            "height": null,
            "justify_content": null,
            "justify_items": null,
            "left": null,
            "margin": null,
            "max_height": null,
            "max_width": null,
            "min_height": null,
            "min_width": null,
            "object_fit": null,
            "object_position": null,
            "order": null,
            "overflow": null,
            "overflow_x": null,
            "overflow_y": null,
            "padding": null,
            "right": null,
            "top": null,
            "visibility": null,
            "width": null
          }
        },
        "2fb2edf12499428385a94ca9436113ef": {
          "model_module": "@jupyter-widgets/controls",
          "model_name": "ProgressStyleModel",
          "model_module_version": "1.5.0",
          "state": {
            "_model_module": "@jupyter-widgets/controls",
            "_model_module_version": "1.5.0",
            "_model_name": "ProgressStyleModel",
            "_view_count": null,
            "_view_module": "@jupyter-widgets/base",
            "_view_module_version": "1.2.0",
            "_view_name": "StyleView",
            "bar_color": null,
            "description_width": ""
          }
        },
        "3ab54adc70114fd29a39b828dba3df3c": {
          "model_module": "@jupyter-widgets/base",
          "model_name": "LayoutModel",
          "model_module_version": "1.2.0",
          "state": {
            "_model_module": "@jupyter-widgets/base",
            "_model_module_version": "1.2.0",
            "_model_name": "LayoutModel",
            "_view_count": null,
            "_view_module": "@jupyter-widgets/base",
            "_view_module_version": "1.2.0",
            "_view_name": "LayoutView",
            "align_content": null,
            "align_items": null,
            "align_self": null,
            "border": null,
            "bottom": null,
            "display": null,
            "flex": null,
            "flex_flow": null,
            "grid_area": null,
            "grid_auto_columns": null,
            "grid_auto_flow": null,
            "grid_auto_rows": null,
            "grid_column": null,
            "grid_gap": null,
            "grid_row": null,
            "grid_template_areas": null,
            "grid_template_columns": null,
            "grid_template_rows": null,
            "height": null,
            "justify_content": null,
            "justify_items": null,
            "left": null,
            "margin": null,
            "max_height": null,
            "max_width": null,
            "min_height": null,
            "min_width": null,
            "object_fit": null,
            "object_position": null,
            "order": null,
            "overflow": null,
            "overflow_x": null,
            "overflow_y": null,
            "padding": null,
            "right": null,
            "top": null,
            "visibility": null,
            "width": null
          }
        },
        "e83464f96aa74c5bb7d64678d9967681": {
          "model_module": "@jupyter-widgets/controls",
          "model_name": "DescriptionStyleModel",
          "model_module_version": "1.5.0",
          "state": {
            "_model_module": "@jupyter-widgets/controls",
            "_model_module_version": "1.5.0",
            "_model_name": "DescriptionStyleModel",
            "_view_count": null,
            "_view_module": "@jupyter-widgets/base",
            "_view_module_version": "1.2.0",
            "_view_name": "StyleView",
            "description_width": ""
          }
        },
        "bde21d1d66ca4114beaf1b792ae49a0f": {
          "model_module": "@jupyter-widgets/controls",
          "model_name": "HBoxModel",
          "model_module_version": "1.5.0",
          "state": {
            "_dom_classes": [],
            "_model_module": "@jupyter-widgets/controls",
            "_model_module_version": "1.5.0",
            "_model_name": "HBoxModel",
            "_view_count": null,
            "_view_module": "@jupyter-widgets/controls",
            "_view_module_version": "1.5.0",
            "_view_name": "HBoxView",
            "box_style": "",
            "children": [
              "IPY_MODEL_4c98751226d74bc286d4addbcbdd3783",
              "IPY_MODEL_a3b1b6bfd5d249bda1d010ee753f24d7",
              "IPY_MODEL_2c49d8cdd5dd427785dcfac30c8cd744"
            ],
            "layout": "IPY_MODEL_7aa65f5fd6f84ed28f63707728349872"
          }
        },
        "4c98751226d74bc286d4addbcbdd3783": {
          "model_module": "@jupyter-widgets/controls",
          "model_name": "HTMLModel",
          "model_module_version": "1.5.0",
          "state": {
            "_dom_classes": [],
            "_model_module": "@jupyter-widgets/controls",
            "_model_module_version": "1.5.0",
            "_model_name": "HTMLModel",
            "_view_count": null,
            "_view_module": "@jupyter-widgets/controls",
            "_view_module_version": "1.5.0",
            "_view_name": "HTMLView",
            "description": "",
            "description_tooltip": null,
            "layout": "IPY_MODEL_6817f9362c7d45e9a6f070accb4adf4d",
            "placeholder": "​",
            "style": "IPY_MODEL_e8584cb30db44825abec0eaeb62e467b",
            "value": "config.json: 100%"
          }
        },
        "a3b1b6bfd5d249bda1d010ee753f24d7": {
          "model_module": "@jupyter-widgets/controls",
          "model_name": "FloatProgressModel",
          "model_module_version": "1.5.0",
          "state": {
            "_dom_classes": [],
            "_model_module": "@jupyter-widgets/controls",
            "_model_module_version": "1.5.0",
            "_model_name": "FloatProgressModel",
            "_view_count": null,
            "_view_module": "@jupyter-widgets/controls",
            "_view_module_version": "1.5.0",
            "_view_name": "ProgressView",
            "bar_style": "success",
            "description": "",
            "description_tooltip": null,
            "layout": "IPY_MODEL_3eddaa759fd0468287639d18d528b5ea",
            "max": 762,
            "min": 0,
            "orientation": "horizontal",
            "style": "IPY_MODEL_6bf6eb8bd27e4575bc86bfe9375dcd16",
            "value": 762
          }
        },
        "2c49d8cdd5dd427785dcfac30c8cd744": {
          "model_module": "@jupyter-widgets/controls",
          "model_name": "HTMLModel",
          "model_module_version": "1.5.0",
          "state": {
            "_dom_classes": [],
            "_model_module": "@jupyter-widgets/controls",
            "_model_module_version": "1.5.0",
            "_model_name": "HTMLModel",
            "_view_count": null,
            "_view_module": "@jupyter-widgets/controls",
            "_view_module_version": "1.5.0",
            "_view_name": "HTMLView",
            "description": "",
            "description_tooltip": null,
            "layout": "IPY_MODEL_40c8d2b1a54e455a90b608710417960d",
            "placeholder": "​",
            "style": "IPY_MODEL_972a31a4e1064bed82c6d945b4dd3ea0",
            "value": " 762/762 [00:00&lt;00:00, 41.3kB/s]"
          }
        },
        "7aa65f5fd6f84ed28f63707728349872": {
          "model_module": "@jupyter-widgets/base",
          "model_name": "LayoutModel",
          "model_module_version": "1.2.0",
          "state": {
            "_model_module": "@jupyter-widgets/base",
            "_model_module_version": "1.2.0",
            "_model_name": "LayoutModel",
            "_view_count": null,
            "_view_module": "@jupyter-widgets/base",
            "_view_module_version": "1.2.0",
            "_view_name": "LayoutView",
            "align_content": null,
            "align_items": null,
            "align_self": null,
            "border": null,
            "bottom": null,
            "display": null,
            "flex": null,
            "flex_flow": null,
            "grid_area": null,
            "grid_auto_columns": null,
            "grid_auto_flow": null,
            "grid_auto_rows": null,
            "grid_column": null,
            "grid_gap": null,
            "grid_row": null,
            "grid_template_areas": null,
            "grid_template_columns": null,
            "grid_template_rows": null,
            "height": null,
            "justify_content": null,
            "justify_items": null,
            "left": null,
            "margin": null,
            "max_height": null,
            "max_width": null,
            "min_height": null,
            "min_width": null,
            "object_fit": null,
            "object_position": null,
            "order": null,
            "overflow": null,
            "overflow_x": null,
            "overflow_y": null,
            "padding": null,
            "right": null,
            "top": null,
            "visibility": null,
            "width": null
          }
        },
        "6817f9362c7d45e9a6f070accb4adf4d": {
          "model_module": "@jupyter-widgets/base",
          "model_name": "LayoutModel",
          "model_module_version": "1.2.0",
          "state": {
            "_model_module": "@jupyter-widgets/base",
            "_model_module_version": "1.2.0",
            "_model_name": "LayoutModel",
            "_view_count": null,
            "_view_module": "@jupyter-widgets/base",
            "_view_module_version": "1.2.0",
            "_view_name": "LayoutView",
            "align_content": null,
            "align_items": null,
            "align_self": null,
            "border": null,
            "bottom": null,
            "display": null,
            "flex": null,
            "flex_flow": null,
            "grid_area": null,
            "grid_auto_columns": null,
            "grid_auto_flow": null,
            "grid_auto_rows": null,
            "grid_column": null,
            "grid_gap": null,
            "grid_row": null,
            "grid_template_areas": null,
            "grid_template_columns": null,
            "grid_template_rows": null,
            "height": null,
            "justify_content": null,
            "justify_items": null,
            "left": null,
            "margin": null,
            "max_height": null,
            "max_width": null,
            "min_height": null,
            "min_width": null,
            "object_fit": null,
            "object_position": null,
            "order": null,
            "overflow": null,
            "overflow_x": null,
            "overflow_y": null,
            "padding": null,
            "right": null,
            "top": null,
            "visibility": null,
            "width": null
          }
        },
        "e8584cb30db44825abec0eaeb62e467b": {
          "model_module": "@jupyter-widgets/controls",
          "model_name": "DescriptionStyleModel",
          "model_module_version": "1.5.0",
          "state": {
            "_model_module": "@jupyter-widgets/controls",
            "_model_module_version": "1.5.0",
            "_model_name": "DescriptionStyleModel",
            "_view_count": null,
            "_view_module": "@jupyter-widgets/base",
            "_view_module_version": "1.2.0",
            "_view_name": "StyleView",
            "description_width": ""
          }
        },
        "3eddaa759fd0468287639d18d528b5ea": {
          "model_module": "@jupyter-widgets/base",
          "model_name": "LayoutModel",
          "model_module_version": "1.2.0",
          "state": {
            "_model_module": "@jupyter-widgets/base",
            "_model_module_version": "1.2.0",
            "_model_name": "LayoutModel",
            "_view_count": null,
            "_view_module": "@jupyter-widgets/base",
            "_view_module_version": "1.2.0",
            "_view_name": "LayoutView",
            "align_content": null,
            "align_items": null,
            "align_self": null,
            "border": null,
            "bottom": null,
            "display": null,
            "flex": null,
            "flex_flow": null,
            "grid_area": null,
            "grid_auto_columns": null,
            "grid_auto_flow": null,
            "grid_auto_rows": null,
            "grid_column": null,
            "grid_gap": null,
            "grid_row": null,
            "grid_template_areas": null,
            "grid_template_columns": null,
            "grid_template_rows": null,
            "height": null,
            "justify_content": null,
            "justify_items": null,
            "left": null,
            "margin": null,
            "max_height": null,
            "max_width": null,
            "min_height": null,
            "min_width": null,
            "object_fit": null,
            "object_position": null,
            "order": null,
            "overflow": null,
            "overflow_x": null,
            "overflow_y": null,
            "padding": null,
            "right": null,
            "top": null,
            "visibility": null,
            "width": null
          }
        },
        "6bf6eb8bd27e4575bc86bfe9375dcd16": {
          "model_module": "@jupyter-widgets/controls",
          "model_name": "ProgressStyleModel",
          "model_module_version": "1.5.0",
          "state": {
            "_model_module": "@jupyter-widgets/controls",
            "_model_module_version": "1.5.0",
            "_model_name": "ProgressStyleModel",
            "_view_count": null,
            "_view_module": "@jupyter-widgets/base",
            "_view_module_version": "1.2.0",
            "_view_name": "StyleView",
            "bar_color": null,
            "description_width": ""
          }
        },
        "40c8d2b1a54e455a90b608710417960d": {
          "model_module": "@jupyter-widgets/base",
          "model_name": "LayoutModel",
          "model_module_version": "1.2.0",
          "state": {
            "_model_module": "@jupyter-widgets/base",
            "_model_module_version": "1.2.0",
            "_model_name": "LayoutModel",
            "_view_count": null,
            "_view_module": "@jupyter-widgets/base",
            "_view_module_version": "1.2.0",
            "_view_name": "LayoutView",
            "align_content": null,
            "align_items": null,
            "align_self": null,
            "border": null,
            "bottom": null,
            "display": null,
            "flex": null,
            "flex_flow": null,
            "grid_area": null,
            "grid_auto_columns": null,
            "grid_auto_flow": null,
            "grid_auto_rows": null,
            "grid_column": null,
            "grid_gap": null,
            "grid_row": null,
            "grid_template_areas": null,
            "grid_template_columns": null,
            "grid_template_rows": null,
            "height": null,
            "justify_content": null,
            "justify_items": null,
            "left": null,
            "margin": null,
            "max_height": null,
            "max_width": null,
            "min_height": null,
            "min_width": null,
            "object_fit": null,
            "object_position": null,
            "order": null,
            "overflow": null,
            "overflow_x": null,
            "overflow_y": null,
            "padding": null,
            "right": null,
            "top": null,
            "visibility": null,
            "width": null
          }
        },
        "972a31a4e1064bed82c6d945b4dd3ea0": {
          "model_module": "@jupyter-widgets/controls",
          "model_name": "DescriptionStyleModel",
          "model_module_version": "1.5.0",
          "state": {
            "_model_module": "@jupyter-widgets/controls",
            "_model_module_version": "1.5.0",
            "_model_name": "DescriptionStyleModel",
            "_view_count": null,
            "_view_module": "@jupyter-widgets/base",
            "_view_module_version": "1.2.0",
            "_view_name": "StyleView",
            "description_width": ""
          }
        },
        "edec2611480f451cbb2cca1fcb0508c3": {
          "model_module": "@jupyter-widgets/controls",
          "model_name": "HBoxModel",
          "model_module_version": "1.5.0",
          "state": {
            "_dom_classes": [],
            "_model_module": "@jupyter-widgets/controls",
            "_model_module_version": "1.5.0",
            "_model_name": "HBoxModel",
            "_view_count": null,
            "_view_module": "@jupyter-widgets/controls",
            "_view_module_version": "1.5.0",
            "_view_name": "HBoxView",
            "box_style": "",
            "children": [
              "IPY_MODEL_7ae05197e7214d21a813447a96b95110",
              "IPY_MODEL_225d3d6ad9f5433598ba6b4994d1d8ac",
              "IPY_MODEL_e95f22e684cf4392a3a65910b013d521"
            ],
            "layout": "IPY_MODEL_6320b562b5e14943a7ba98542e7ccec9"
          }
        },
        "7ae05197e7214d21a813447a96b95110": {
          "model_module": "@jupyter-widgets/controls",
          "model_name": "HTMLModel",
          "model_module_version": "1.5.0",
          "state": {
            "_dom_classes": [],
            "_model_module": "@jupyter-widgets/controls",
            "_model_module_version": "1.5.0",
            "_model_name": "HTMLModel",
            "_view_count": null,
            "_view_module": "@jupyter-widgets/controls",
            "_view_module_version": "1.5.0",
            "_view_name": "HTMLView",
            "description": "",
            "description_tooltip": null,
            "layout": "IPY_MODEL_4ea0d462785c476dbfc350e4495fdd23",
            "placeholder": "​",
            "style": "IPY_MODEL_94c7d3be56404998bced4c27aef4bf1a",
            "value": "vocab.json: 100%"
          }
        },
        "225d3d6ad9f5433598ba6b4994d1d8ac": {
          "model_module": "@jupyter-widgets/controls",
          "model_name": "FloatProgressModel",
          "model_module_version": "1.5.0",
          "state": {
            "_dom_classes": [],
            "_model_module": "@jupyter-widgets/controls",
            "_model_module_version": "1.5.0",
            "_model_name": "FloatProgressModel",
            "_view_count": null,
            "_view_module": "@jupyter-widgets/controls",
            "_view_module_version": "1.5.0",
            "_view_name": "ProgressView",
            "bar_style": "success",
            "description": "",
            "description_tooltip": null,
            "layout": "IPY_MODEL_511a2b656da241dda571cbbd49bed861",
            "max": 1042301,
            "min": 0,
            "orientation": "horizontal",
            "style": "IPY_MODEL_461e8ac1e4db415aa15f9f39c9cab437",
            "value": 1042301
          }
        },
        "e95f22e684cf4392a3a65910b013d521": {
          "model_module": "@jupyter-widgets/controls",
          "model_name": "HTMLModel",
          "model_module_version": "1.5.0",
          "state": {
            "_dom_classes": [],
            "_model_module": "@jupyter-widgets/controls",
            "_model_module_version": "1.5.0",
            "_model_name": "HTMLModel",
            "_view_count": null,
            "_view_module": "@jupyter-widgets/controls",
            "_view_module_version": "1.5.0",
            "_view_name": "HTMLView",
            "description": "",
            "description_tooltip": null,
            "layout": "IPY_MODEL_a89eccde9e234adda27624e252f3b343",
            "placeholder": "​",
            "style": "IPY_MODEL_47bd0f8f59db45209bacb47e0bbc71ca",
            "value": " 1.04M/1.04M [00:00&lt;00:00, 3.58MB/s]"
          }
        },
        "6320b562b5e14943a7ba98542e7ccec9": {
          "model_module": "@jupyter-widgets/base",
          "model_name": "LayoutModel",
          "model_module_version": "1.2.0",
          "state": {
            "_model_module": "@jupyter-widgets/base",
            "_model_module_version": "1.2.0",
            "_model_name": "LayoutModel",
            "_view_count": null,
            "_view_module": "@jupyter-widgets/base",
            "_view_module_version": "1.2.0",
            "_view_name": "LayoutView",
            "align_content": null,
            "align_items": null,
            "align_self": null,
            "border": null,
            "bottom": null,
            "display": null,
            "flex": null,
            "flex_flow": null,
            "grid_area": null,
            "grid_auto_columns": null,
            "grid_auto_flow": null,
            "grid_auto_rows": null,
            "grid_column": null,
            "grid_gap": null,
            "grid_row": null,
            "grid_template_areas": null,
            "grid_template_columns": null,
            "grid_template_rows": null,
            "height": null,
            "justify_content": null,
            "justify_items": null,
            "left": null,
            "margin": null,
            "max_height": null,
            "max_width": null,
            "min_height": null,
            "min_width": null,
            "object_fit": null,
            "object_position": null,
            "order": null,
            "overflow": null,
            "overflow_x": null,
            "overflow_y": null,
            "padding": null,
            "right": null,
            "top": null,
            "visibility": null,
            "width": null
          }
        },
        "4ea0d462785c476dbfc350e4495fdd23": {
          "model_module": "@jupyter-widgets/base",
          "model_name": "LayoutModel",
          "model_module_version": "1.2.0",
          "state": {
            "_model_module": "@jupyter-widgets/base",
            "_model_module_version": "1.2.0",
            "_model_name": "LayoutModel",
            "_view_count": null,
            "_view_module": "@jupyter-widgets/base",
            "_view_module_version": "1.2.0",
            "_view_name": "LayoutView",
            "align_content": null,
            "align_items": null,
            "align_self": null,
            "border": null,
            "bottom": null,
            "display": null,
            "flex": null,
            "flex_flow": null,
            "grid_area": null,
            "grid_auto_columns": null,
            "grid_auto_flow": null,
            "grid_auto_rows": null,
            "grid_column": null,
            "grid_gap": null,
            "grid_row": null,
            "grid_template_areas": null,
            "grid_template_columns": null,
            "grid_template_rows": null,
            "height": null,
            "justify_content": null,
            "justify_items": null,
            "left": null,
            "margin": null,
            "max_height": null,
            "max_width": null,
            "min_height": null,
            "min_width": null,
            "object_fit": null,
            "object_position": null,
            "order": null,
            "overflow": null,
            "overflow_x": null,
            "overflow_y": null,
            "padding": null,
            "right": null,
            "top": null,
            "visibility": null,
            "width": null
          }
        },
        "94c7d3be56404998bced4c27aef4bf1a": {
          "model_module": "@jupyter-widgets/controls",
          "model_name": "DescriptionStyleModel",
          "model_module_version": "1.5.0",
          "state": {
            "_model_module": "@jupyter-widgets/controls",
            "_model_module_version": "1.5.0",
            "_model_name": "DescriptionStyleModel",
            "_view_count": null,
            "_view_module": "@jupyter-widgets/base",
            "_view_module_version": "1.2.0",
            "_view_name": "StyleView",
            "description_width": ""
          }
        },
        "511a2b656da241dda571cbbd49bed861": {
          "model_module": "@jupyter-widgets/base",
          "model_name": "LayoutModel",
          "model_module_version": "1.2.0",
          "state": {
            "_model_module": "@jupyter-widgets/base",
            "_model_module_version": "1.2.0",
            "_model_name": "LayoutModel",
            "_view_count": null,
            "_view_module": "@jupyter-widgets/base",
            "_view_module_version": "1.2.0",
            "_view_name": "LayoutView",
            "align_content": null,
            "align_items": null,
            "align_self": null,
            "border": null,
            "bottom": null,
            "display": null,
            "flex": null,
            "flex_flow": null,
            "grid_area": null,
            "grid_auto_columns": null,
            "grid_auto_flow": null,
            "grid_auto_rows": null,
            "grid_column": null,
            "grid_gap": null,
            "grid_row": null,
            "grid_template_areas": null,
            "grid_template_columns": null,
            "grid_template_rows": null,
            "height": null,
            "justify_content": null,
            "justify_items": null,
            "left": null,
            "margin": null,
            "max_height": null,
            "max_width": null,
            "min_height": null,
            "min_width": null,
            "object_fit": null,
            "object_position": null,
            "order": null,
            "overflow": null,
            "overflow_x": null,
            "overflow_y": null,
            "padding": null,
            "right": null,
            "top": null,
            "visibility": null,
            "width": null
          }
        },
        "461e8ac1e4db415aa15f9f39c9cab437": {
          "model_module": "@jupyter-widgets/controls",
          "model_name": "ProgressStyleModel",
          "model_module_version": "1.5.0",
          "state": {
            "_model_module": "@jupyter-widgets/controls",
            "_model_module_version": "1.5.0",
            "_model_name": "ProgressStyleModel",
            "_view_count": null,
            "_view_module": "@jupyter-widgets/base",
            "_view_module_version": "1.2.0",
            "_view_name": "StyleView",
            "bar_color": null,
            "description_width": ""
          }
        },
        "a89eccde9e234adda27624e252f3b343": {
          "model_module": "@jupyter-widgets/base",
          "model_name": "LayoutModel",
          "model_module_version": "1.2.0",
          "state": {
            "_model_module": "@jupyter-widgets/base",
            "_model_module_version": "1.2.0",
            "_model_name": "LayoutModel",
            "_view_count": null,
            "_view_module": "@jupyter-widgets/base",
            "_view_module_version": "1.2.0",
            "_view_name": "LayoutView",
            "align_content": null,
            "align_items": null,
            "align_self": null,
            "border": null,
            "bottom": null,
            "display": null,
            "flex": null,
            "flex_flow": null,
            "grid_area": null,
            "grid_auto_columns": null,
            "grid_auto_flow": null,
            "grid_auto_rows": null,
            "grid_column": null,
            "grid_gap": null,
            "grid_row": null,
            "grid_template_areas": null,
            "grid_template_columns": null,
            "grid_template_rows": null,
            "height": null,
            "justify_content": null,
            "justify_items": null,
            "left": null,
            "margin": null,
            "max_height": null,
            "max_width": null,
            "min_height": null,
            "min_width": null,
            "object_fit": null,
            "object_position": null,
            "order": null,
            "overflow": null,
            "overflow_x": null,
            "overflow_y": null,
            "padding": null,
            "right": null,
            "top": null,
            "visibility": null,
            "width": null
          }
        },
        "47bd0f8f59db45209bacb47e0bbc71ca": {
          "model_module": "@jupyter-widgets/controls",
          "model_name": "DescriptionStyleModel",
          "model_module_version": "1.5.0",
          "state": {
            "_model_module": "@jupyter-widgets/controls",
            "_model_module_version": "1.5.0",
            "_model_name": "DescriptionStyleModel",
            "_view_count": null,
            "_view_module": "@jupyter-widgets/base",
            "_view_module_version": "1.2.0",
            "_view_name": "StyleView",
            "description_width": ""
          }
        },
        "640fe1ce0d8640d3914a5c723d1dc838": {
          "model_module": "@jupyter-widgets/controls",
          "model_name": "HBoxModel",
          "model_module_version": "1.5.0",
          "state": {
            "_dom_classes": [],
            "_model_module": "@jupyter-widgets/controls",
            "_model_module_version": "1.5.0",
            "_model_name": "HBoxModel",
            "_view_count": null,
            "_view_module": "@jupyter-widgets/controls",
            "_view_module_version": "1.5.0",
            "_view_name": "HBoxView",
            "box_style": "",
            "children": [
              "IPY_MODEL_057cd9bc90b64e66bd4766fb6479ba66",
              "IPY_MODEL_87f1a9f80c1a46c8bb886b8fcae46546",
              "IPY_MODEL_093035a543d54e2c916ba7a408e592f2"
            ],
            "layout": "IPY_MODEL_93dec6545dfd4bca86f1ce0080ded031"
          }
        },
        "057cd9bc90b64e66bd4766fb6479ba66": {
          "model_module": "@jupyter-widgets/controls",
          "model_name": "HTMLModel",
          "model_module_version": "1.5.0",
          "state": {
            "_dom_classes": [],
            "_model_module": "@jupyter-widgets/controls",
            "_model_module_version": "1.5.0",
            "_model_name": "HTMLModel",
            "_view_count": null,
            "_view_module": "@jupyter-widgets/controls",
            "_view_module_version": "1.5.0",
            "_view_name": "HTMLView",
            "description": "",
            "description_tooltip": null,
            "layout": "IPY_MODEL_6a3ea6c9652342daa8d407b868cfa155",
            "placeholder": "​",
            "style": "IPY_MODEL_0741d7e99a844f0e94061f8badd7e4f9",
            "value": "merges.txt: 100%"
          }
        },
        "87f1a9f80c1a46c8bb886b8fcae46546": {
          "model_module": "@jupyter-widgets/controls",
          "model_name": "FloatProgressModel",
          "model_module_version": "1.5.0",
          "state": {
            "_dom_classes": [],
            "_model_module": "@jupyter-widgets/controls",
            "_model_module_version": "1.5.0",
            "_model_name": "FloatProgressModel",
            "_view_count": null,
            "_view_module": "@jupyter-widgets/controls",
            "_view_module_version": "1.5.0",
            "_view_name": "ProgressView",
            "bar_style": "success",
            "description": "",
            "description_tooltip": null,
            "layout": "IPY_MODEL_9214d36164f24c9fbcecea397bcb0704",
            "max": 456318,
            "min": 0,
            "orientation": "horizontal",
            "style": "IPY_MODEL_d0b19a2611c84cbfb02026bd84ed28a6",
            "value": 456318
          }
        },
        "093035a543d54e2c916ba7a408e592f2": {
          "model_module": "@jupyter-widgets/controls",
          "model_name": "HTMLModel",
          "model_module_version": "1.5.0",
          "state": {
            "_dom_classes": [],
            "_model_module": "@jupyter-widgets/controls",
            "_model_module_version": "1.5.0",
            "_model_name": "HTMLModel",
            "_view_count": null,
            "_view_module": "@jupyter-widgets/controls",
            "_view_module_version": "1.5.0",
            "_view_name": "HTMLView",
            "description": "",
            "description_tooltip": null,
            "layout": "IPY_MODEL_66b41ad769714c70841be5cf00dc09c0",
            "placeholder": "​",
            "style": "IPY_MODEL_7bec5a6dda4a4ccf8b90c76fac988dd2",
            "value": " 456k/456k [00:00&lt;00:00, 7.79MB/s]"
          }
        },
        "93dec6545dfd4bca86f1ce0080ded031": {
          "model_module": "@jupyter-widgets/base",
          "model_name": "LayoutModel",
          "model_module_version": "1.2.0",
          "state": {
            "_model_module": "@jupyter-widgets/base",
            "_model_module_version": "1.2.0",
            "_model_name": "LayoutModel",
            "_view_count": null,
            "_view_module": "@jupyter-widgets/base",
            "_view_module_version": "1.2.0",
            "_view_name": "LayoutView",
            "align_content": null,
            "align_items": null,
            "align_self": null,
            "border": null,
            "bottom": null,
            "display": null,
            "flex": null,
            "flex_flow": null,
            "grid_area": null,
            "grid_auto_columns": null,
            "grid_auto_flow": null,
            "grid_auto_rows": null,
            "grid_column": null,
            "grid_gap": null,
            "grid_row": null,
            "grid_template_areas": null,
            "grid_template_columns": null,
            "grid_template_rows": null,
            "height": null,
            "justify_content": null,
            "justify_items": null,
            "left": null,
            "margin": null,
            "max_height": null,
            "max_width": null,
            "min_height": null,
            "min_width": null,
            "object_fit": null,
            "object_position": null,
            "order": null,
            "overflow": null,
            "overflow_x": null,
            "overflow_y": null,
            "padding": null,
            "right": null,
            "top": null,
            "visibility": null,
            "width": null
          }
        },
        "6a3ea6c9652342daa8d407b868cfa155": {
          "model_module": "@jupyter-widgets/base",
          "model_name": "LayoutModel",
          "model_module_version": "1.2.0",
          "state": {
            "_model_module": "@jupyter-widgets/base",
            "_model_module_version": "1.2.0",
            "_model_name": "LayoutModel",
            "_view_count": null,
            "_view_module": "@jupyter-widgets/base",
            "_view_module_version": "1.2.0",
            "_view_name": "LayoutView",
            "align_content": null,
            "align_items": null,
            "align_self": null,
            "border": null,
            "bottom": null,
            "display": null,
            "flex": null,
            "flex_flow": null,
            "grid_area": null,
            "grid_auto_columns": null,
            "grid_auto_flow": null,
            "grid_auto_rows": null,
            "grid_column": null,
            "grid_gap": null,
            "grid_row": null,
            "grid_template_areas": null,
            "grid_template_columns": null,
            "grid_template_rows": null,
            "height": null,
            "justify_content": null,
            "justify_items": null,
            "left": null,
            "margin": null,
            "max_height": null,
            "max_width": null,
            "min_height": null,
            "min_width": null,
            "object_fit": null,
            "object_position": null,
            "order": null,
            "overflow": null,
            "overflow_x": null,
            "overflow_y": null,
            "padding": null,
            "right": null,
            "top": null,
            "visibility": null,
            "width": null
          }
        },
        "0741d7e99a844f0e94061f8badd7e4f9": {
          "model_module": "@jupyter-widgets/controls",
          "model_name": "DescriptionStyleModel",
          "model_module_version": "1.5.0",
          "state": {
            "_model_module": "@jupyter-widgets/controls",
            "_model_module_version": "1.5.0",
            "_model_name": "DescriptionStyleModel",
            "_view_count": null,
            "_view_module": "@jupyter-widgets/base",
            "_view_module_version": "1.2.0",
            "_view_name": "StyleView",
            "description_width": ""
          }
        },
        "9214d36164f24c9fbcecea397bcb0704": {
          "model_module": "@jupyter-widgets/base",
          "model_name": "LayoutModel",
          "model_module_version": "1.2.0",
          "state": {
            "_model_module": "@jupyter-widgets/base",
            "_model_module_version": "1.2.0",
            "_model_name": "LayoutModel",
            "_view_count": null,
            "_view_module": "@jupyter-widgets/base",
            "_view_module_version": "1.2.0",
            "_view_name": "LayoutView",
            "align_content": null,
            "align_items": null,
            "align_self": null,
            "border": null,
            "bottom": null,
            "display": null,
            "flex": null,
            "flex_flow": null,
            "grid_area": null,
            "grid_auto_columns": null,
            "grid_auto_flow": null,
            "grid_auto_rows": null,
            "grid_column": null,
            "grid_gap": null,
            "grid_row": null,
            "grid_template_areas": null,
            "grid_template_columns": null,
            "grid_template_rows": null,
            "height": null,
            "justify_content": null,
            "justify_items": null,
            "left": null,
            "margin": null,
            "max_height": null,
            "max_width": null,
            "min_height": null,
            "min_width": null,
            "object_fit": null,
            "object_position": null,
            "order": null,
            "overflow": null,
            "overflow_x": null,
            "overflow_y": null,
            "padding": null,
            "right": null,
            "top": null,
            "visibility": null,
            "width": null
          }
        },
        "d0b19a2611c84cbfb02026bd84ed28a6": {
          "model_module": "@jupyter-widgets/controls",
          "model_name": "ProgressStyleModel",
          "model_module_version": "1.5.0",
          "state": {
            "_model_module": "@jupyter-widgets/controls",
            "_model_module_version": "1.5.0",
            "_model_name": "ProgressStyleModel",
            "_view_count": null,
            "_view_module": "@jupyter-widgets/base",
            "_view_module_version": "1.2.0",
            "_view_name": "StyleView",
            "bar_color": null,
            "description_width": ""
          }
        },
        "66b41ad769714c70841be5cf00dc09c0": {
          "model_module": "@jupyter-widgets/base",
          "model_name": "LayoutModel",
          "model_module_version": "1.2.0",
          "state": {
            "_model_module": "@jupyter-widgets/base",
            "_model_module_version": "1.2.0",
            "_model_name": "LayoutModel",
            "_view_count": null,
            "_view_module": "@jupyter-widgets/base",
            "_view_module_version": "1.2.0",
            "_view_name": "LayoutView",
            "align_content": null,
            "align_items": null,
            "align_self": null,
            "border": null,
            "bottom": null,
            "display": null,
            "flex": null,
            "flex_flow": null,
            "grid_area": null,
            "grid_auto_columns": null,
            "grid_auto_flow": null,
            "grid_auto_rows": null,
            "grid_column": null,
            "grid_gap": null,
            "grid_row": null,
            "grid_template_areas": null,
            "grid_template_columns": null,
            "grid_template_rows": null,
            "height": null,
            "justify_content": null,
            "justify_items": null,
            "left": null,
            "margin": null,
            "max_height": null,
            "max_width": null,
            "min_height": null,
            "min_width": null,
            "object_fit": null,
            "object_position": null,
            "order": null,
            "overflow": null,
            "overflow_x": null,
            "overflow_y": null,
            "padding": null,
            "right": null,
            "top": null,
            "visibility": null,
            "width": null
          }
        },
        "7bec5a6dda4a4ccf8b90c76fac988dd2": {
          "model_module": "@jupyter-widgets/controls",
          "model_name": "DescriptionStyleModel",
          "model_module_version": "1.5.0",
          "state": {
            "_model_module": "@jupyter-widgets/controls",
            "_model_module_version": "1.5.0",
            "_model_name": "DescriptionStyleModel",
            "_view_count": null,
            "_view_module": "@jupyter-widgets/base",
            "_view_module_version": "1.2.0",
            "_view_name": "StyleView",
            "description_width": ""
          }
        },
        "88ce35012b4e4cc1b54e9b396accd482": {
          "model_module": "@jupyter-widgets/controls",
          "model_name": "HBoxModel",
          "model_module_version": "1.5.0",
          "state": {
            "_dom_classes": [],
            "_model_module": "@jupyter-widgets/controls",
            "_model_module_version": "1.5.0",
            "_model_name": "HBoxModel",
            "_view_count": null,
            "_view_module": "@jupyter-widgets/controls",
            "_view_module_version": "1.5.0",
            "_view_name": "HBoxView",
            "box_style": "",
            "children": [
              "IPY_MODEL_b5a2381c36cc4cb99184183c04e769b8",
              "IPY_MODEL_8ad5fa720764467ba8a82d2ecfe432ea",
              "IPY_MODEL_ccca796dce0f4cfcb51237e8929b527f"
            ],
            "layout": "IPY_MODEL_f87daea95624482c9b25a81dd4ce3e5a"
          }
        },
        "b5a2381c36cc4cb99184183c04e769b8": {
          "model_module": "@jupyter-widgets/controls",
          "model_name": "HTMLModel",
          "model_module_version": "1.5.0",
          "state": {
            "_dom_classes": [],
            "_model_module": "@jupyter-widgets/controls",
            "_model_module_version": "1.5.0",
            "_model_name": "HTMLModel",
            "_view_count": null,
            "_view_module": "@jupyter-widgets/controls",
            "_view_module_version": "1.5.0",
            "_view_name": "HTMLView",
            "description": "",
            "description_tooltip": null,
            "layout": "IPY_MODEL_1359486de51f4139bb01101c455369e3",
            "placeholder": "​",
            "style": "IPY_MODEL_fe363e6678604d8697c4e91359c3fdb7",
            "value": "tokenizer.json: 100%"
          }
        },
        "8ad5fa720764467ba8a82d2ecfe432ea": {
          "model_module": "@jupyter-widgets/controls",
          "model_name": "FloatProgressModel",
          "model_module_version": "1.5.0",
          "state": {
            "_dom_classes": [],
            "_model_module": "@jupyter-widgets/controls",
            "_model_module_version": "1.5.0",
            "_model_name": "FloatProgressModel",
            "_view_count": null,
            "_view_module": "@jupyter-widgets/controls",
            "_view_module_version": "1.5.0",
            "_view_name": "ProgressView",
            "bar_style": "success",
            "description": "",
            "description_tooltip": null,
            "layout": "IPY_MODEL_9d2ae03f0a284e428e879ccc6a03c609",
            "max": 1355256,
            "min": 0,
            "orientation": "horizontal",
            "style": "IPY_MODEL_966d48364ca1465785a59630f4137ebc",
            "value": 1355256
          }
        },
        "ccca796dce0f4cfcb51237e8929b527f": {
          "model_module": "@jupyter-widgets/controls",
          "model_name": "HTMLModel",
          "model_module_version": "1.5.0",
          "state": {
            "_dom_classes": [],
            "_model_module": "@jupyter-widgets/controls",
            "_model_module_version": "1.5.0",
            "_model_name": "HTMLModel",
            "_view_count": null,
            "_view_module": "@jupyter-widgets/controls",
            "_view_module_version": "1.5.0",
            "_view_name": "HTMLView",
            "description": "",
            "description_tooltip": null,
            "layout": "IPY_MODEL_8ccee1a95e4e412bb36dfec5b924cfc7",
            "placeholder": "​",
            "style": "IPY_MODEL_417c4af93a124d67be86dde59862bee3",
            "value": " 1.36M/1.36M [00:00&lt;00:00, 9.25MB/s]"
          }
        },
        "f87daea95624482c9b25a81dd4ce3e5a": {
          "model_module": "@jupyter-widgets/base",
          "model_name": "LayoutModel",
          "model_module_version": "1.2.0",
          "state": {
            "_model_module": "@jupyter-widgets/base",
            "_model_module_version": "1.2.0",
            "_model_name": "LayoutModel",
            "_view_count": null,
            "_view_module": "@jupyter-widgets/base",
            "_view_module_version": "1.2.0",
            "_view_name": "LayoutView",
            "align_content": null,
            "align_items": null,
            "align_self": null,
            "border": null,
            "bottom": null,
            "display": null,
            "flex": null,
            "flex_flow": null,
            "grid_area": null,
            "grid_auto_columns": null,
            "grid_auto_flow": null,
            "grid_auto_rows": null,
            "grid_column": null,
            "grid_gap": null,
            "grid_row": null,
            "grid_template_areas": null,
            "grid_template_columns": null,
            "grid_template_rows": null,
            "height": null,
            "justify_content": null,
            "justify_items": null,
            "left": null,
            "margin": null,
            "max_height": null,
            "max_width": null,
            "min_height": null,
            "min_width": null,
            "object_fit": null,
            "object_position": null,
            "order": null,
            "overflow": null,
            "overflow_x": null,
            "overflow_y": null,
            "padding": null,
            "right": null,
            "top": null,
            "visibility": null,
            "width": null
          }
        },
        "1359486de51f4139bb01101c455369e3": {
          "model_module": "@jupyter-widgets/base",
          "model_name": "LayoutModel",
          "model_module_version": "1.2.0",
          "state": {
            "_model_module": "@jupyter-widgets/base",
            "_model_module_version": "1.2.0",
            "_model_name": "LayoutModel",
            "_view_count": null,
            "_view_module": "@jupyter-widgets/base",
            "_view_module_version": "1.2.0",
            "_view_name": "LayoutView",
            "align_content": null,
            "align_items": null,
            "align_self": null,
            "border": null,
            "bottom": null,
            "display": null,
            "flex": null,
            "flex_flow": null,
            "grid_area": null,
            "grid_auto_columns": null,
            "grid_auto_flow": null,
            "grid_auto_rows": null,
            "grid_column": null,
            "grid_gap": null,
            "grid_row": null,
            "grid_template_areas": null,
            "grid_template_columns": null,
            "grid_template_rows": null,
            "height": null,
            "justify_content": null,
            "justify_items": null,
            "left": null,
            "margin": null,
            "max_height": null,
            "max_width": null,
            "min_height": null,
            "min_width": null,
            "object_fit": null,
            "object_position": null,
            "order": null,
            "overflow": null,
            "overflow_x": null,
            "overflow_y": null,
            "padding": null,
            "right": null,
            "top": null,
            "visibility": null,
            "width": null
          }
        },
        "fe363e6678604d8697c4e91359c3fdb7": {
          "model_module": "@jupyter-widgets/controls",
          "model_name": "DescriptionStyleModel",
          "model_module_version": "1.5.0",
          "state": {
            "_model_module": "@jupyter-widgets/controls",
            "_model_module_version": "1.5.0",
            "_model_name": "DescriptionStyleModel",
            "_view_count": null,
            "_view_module": "@jupyter-widgets/base",
            "_view_module_version": "1.2.0",
            "_view_name": "StyleView",
            "description_width": ""
          }
        },
        "9d2ae03f0a284e428e879ccc6a03c609": {
          "model_module": "@jupyter-widgets/base",
          "model_name": "LayoutModel",
          "model_module_version": "1.2.0",
          "state": {
            "_model_module": "@jupyter-widgets/base",
            "_model_module_version": "1.2.0",
            "_model_name": "LayoutModel",
            "_view_count": null,
            "_view_module": "@jupyter-widgets/base",
            "_view_module_version": "1.2.0",
            "_view_name": "LayoutView",
            "align_content": null,
            "align_items": null,
            "align_self": null,
            "border": null,
            "bottom": null,
            "display": null,
            "flex": null,
            "flex_flow": null,
            "grid_area": null,
            "grid_auto_columns": null,
            "grid_auto_flow": null,
            "grid_auto_rows": null,
            "grid_column": null,
            "grid_gap": null,
            "grid_row": null,
            "grid_template_areas": null,
            "grid_template_columns": null,
            "grid_template_rows": null,
            "height": null,
            "justify_content": null,
            "justify_items": null,
            "left": null,
            "margin": null,
            "max_height": null,
            "max_width": null,
            "min_height": null,
            "min_width": null,
            "object_fit": null,
            "object_position": null,
            "order": null,
            "overflow": null,
            "overflow_x": null,
            "overflow_y": null,
            "padding": null,
            "right": null,
            "top": null,
            "visibility": null,
            "width": null
          }
        },
        "966d48364ca1465785a59630f4137ebc": {
          "model_module": "@jupyter-widgets/controls",
          "model_name": "ProgressStyleModel",
          "model_module_version": "1.5.0",
          "state": {
            "_model_module": "@jupyter-widgets/controls",
            "_model_module_version": "1.5.0",
            "_model_name": "ProgressStyleModel",
            "_view_count": null,
            "_view_module": "@jupyter-widgets/base",
            "_view_module_version": "1.2.0",
            "_view_name": "StyleView",
            "bar_color": null,
            "description_width": ""
          }
        },
        "8ccee1a95e4e412bb36dfec5b924cfc7": {
          "model_module": "@jupyter-widgets/base",
          "model_name": "LayoutModel",
          "model_module_version": "1.2.0",
          "state": {
            "_model_module": "@jupyter-widgets/base",
            "_model_module_version": "1.2.0",
            "_model_name": "LayoutModel",
            "_view_count": null,
            "_view_module": "@jupyter-widgets/base",
            "_view_module_version": "1.2.0",
            "_view_name": "LayoutView",
            "align_content": null,
            "align_items": null,
            "align_self": null,
            "border": null,
            "bottom": null,
            "display": null,
            "flex": null,
            "flex_flow": null,
            "grid_area": null,
            "grid_auto_columns": null,
            "grid_auto_flow": null,
            "grid_auto_rows": null,
            "grid_column": null,
            "grid_gap": null,
            "grid_row": null,
            "grid_template_areas": null,
            "grid_template_columns": null,
            "grid_template_rows": null,
            "height": null,
            "justify_content": null,
            "justify_items": null,
            "left": null,
            "margin": null,
            "max_height": null,
            "max_width": null,
            "min_height": null,
            "min_width": null,
            "object_fit": null,
            "object_position": null,
            "order": null,
            "overflow": null,
            "overflow_x": null,
            "overflow_y": null,
            "padding": null,
            "right": null,
            "top": null,
            "visibility": null,
            "width": null
          }
        },
        "417c4af93a124d67be86dde59862bee3": {
          "model_module": "@jupyter-widgets/controls",
          "model_name": "DescriptionStyleModel",
          "model_module_version": "1.5.0",
          "state": {
            "_model_module": "@jupyter-widgets/controls",
            "_model_module_version": "1.5.0",
            "_model_name": "DescriptionStyleModel",
            "_view_count": null,
            "_view_module": "@jupyter-widgets/base",
            "_view_module_version": "1.2.0",
            "_view_name": "StyleView",
            "description_width": ""
          }
        },
        "dcb6209664414e17be8328ae87e1a47a": {
          "model_module": "@jupyter-widgets/controls",
          "model_name": "HBoxModel",
          "model_module_version": "1.5.0",
          "state": {
            "_dom_classes": [],
            "_model_module": "@jupyter-widgets/controls",
            "_model_module_version": "1.5.0",
            "_model_name": "HBoxModel",
            "_view_count": null,
            "_view_module": "@jupyter-widgets/controls",
            "_view_module_version": "1.5.0",
            "_view_name": "HBoxView",
            "box_style": "",
            "children": [
              "IPY_MODEL_e3d342925ac24d5f8196d78b59cb532e",
              "IPY_MODEL_6f2fe524de7b4b35b77a0ed4a5ead721",
              "IPY_MODEL_ceafe378cf6d4aabb8b81c00281e5693"
            ],
            "layout": "IPY_MODEL_d4a54611af344187bcc7640679bb477c"
          }
        },
        "e3d342925ac24d5f8196d78b59cb532e": {
          "model_module": "@jupyter-widgets/controls",
          "model_name": "HTMLModel",
          "model_module_version": "1.5.0",
          "state": {
            "_dom_classes": [],
            "_model_module": "@jupyter-widgets/controls",
            "_model_module_version": "1.5.0",
            "_model_name": "HTMLModel",
            "_view_count": null,
            "_view_module": "@jupyter-widgets/controls",
            "_view_module_version": "1.5.0",
            "_view_name": "HTMLView",
            "description": "",
            "description_tooltip": null,
            "layout": "IPY_MODEL_d73bcb41038f4727858e525d0a920214",
            "placeholder": "​",
            "style": "IPY_MODEL_587c741c2c324b1888b7bed6d732366d",
            "value": "model.safetensors: 100%"
          }
        },
        "6f2fe524de7b4b35b77a0ed4a5ead721": {
          "model_module": "@jupyter-widgets/controls",
          "model_name": "FloatProgressModel",
          "model_module_version": "1.5.0",
          "state": {
            "_dom_classes": [],
            "_model_module": "@jupyter-widgets/controls",
            "_model_module_version": "1.5.0",
            "_model_name": "FloatProgressModel",
            "_view_count": null,
            "_view_module": "@jupyter-widgets/controls",
            "_view_module_version": "1.5.0",
            "_view_name": "ProgressView",
            "bar_style": "success",
            "description": "",
            "description_tooltip": null,
            "layout": "IPY_MODEL_01d0c3340b7f4ea5acb77a56ee166121",
            "max": 352824413,
            "min": 0,
            "orientation": "horizontal",
            "style": "IPY_MODEL_008a0ac7918844f3aa933c681d6b2e42",
            "value": 352824413
          }
        },
        "ceafe378cf6d4aabb8b81c00281e5693": {
          "model_module": "@jupyter-widgets/controls",
          "model_name": "HTMLModel",
          "model_module_version": "1.5.0",
          "state": {
            "_dom_classes": [],
            "_model_module": "@jupyter-widgets/controls",
            "_model_module_version": "1.5.0",
            "_model_name": "HTMLModel",
            "_view_count": null,
            "_view_module": "@jupyter-widgets/controls",
            "_view_module_version": "1.5.0",
            "_view_name": "HTMLView",
            "description": "",
            "description_tooltip": null,
            "layout": "IPY_MODEL_cf8f4a65a3c34809947a4bcd424fe130",
            "placeholder": "​",
            "style": "IPY_MODEL_e733bf28e40543c7ae07bc8793965560",
            "value": " 353M/353M [00:02&lt;00:00, 185MB/s]"
          }
        },
        "d4a54611af344187bcc7640679bb477c": {
          "model_module": "@jupyter-widgets/base",
          "model_name": "LayoutModel",
          "model_module_version": "1.2.0",
          "state": {
            "_model_module": "@jupyter-widgets/base",
            "_model_module_version": "1.2.0",
            "_model_name": "LayoutModel",
            "_view_count": null,
            "_view_module": "@jupyter-widgets/base",
            "_view_module_version": "1.2.0",
            "_view_name": "LayoutView",
            "align_content": null,
            "align_items": null,
            "align_self": null,
            "border": null,
            "bottom": null,
            "display": null,
            "flex": null,
            "flex_flow": null,
            "grid_area": null,
            "grid_auto_columns": null,
            "grid_auto_flow": null,
            "grid_auto_rows": null,
            "grid_column": null,
            "grid_gap": null,
            "grid_row": null,
            "grid_template_areas": null,
            "grid_template_columns": null,
            "grid_template_rows": null,
            "height": null,
            "justify_content": null,
            "justify_items": null,
            "left": null,
            "margin": null,
            "max_height": null,
            "max_width": null,
            "min_height": null,
            "min_width": null,
            "object_fit": null,
            "object_position": null,
            "order": null,
            "overflow": null,
            "overflow_x": null,
            "overflow_y": null,
            "padding": null,
            "right": null,
            "top": null,
            "visibility": null,
            "width": null
          }
        },
        "d73bcb41038f4727858e525d0a920214": {
          "model_module": "@jupyter-widgets/base",
          "model_name": "LayoutModel",
          "model_module_version": "1.2.0",
          "state": {
            "_model_module": "@jupyter-widgets/base",
            "_model_module_version": "1.2.0",
            "_model_name": "LayoutModel",
            "_view_count": null,
            "_view_module": "@jupyter-widgets/base",
            "_view_module_version": "1.2.0",
            "_view_name": "LayoutView",
            "align_content": null,
            "align_items": null,
            "align_self": null,
            "border": null,
            "bottom": null,
            "display": null,
            "flex": null,
            "flex_flow": null,
            "grid_area": null,
            "grid_auto_columns": null,
            "grid_auto_flow": null,
            "grid_auto_rows": null,
            "grid_column": null,
            "grid_gap": null,
            "grid_row": null,
            "grid_template_areas": null,
            "grid_template_columns": null,
            "grid_template_rows": null,
            "height": null,
            "justify_content": null,
            "justify_items": null,
            "left": null,
            "margin": null,
            "max_height": null,
            "max_width": null,
            "min_height": null,
            "min_width": null,
            "object_fit": null,
            "object_position": null,
            "order": null,
            "overflow": null,
            "overflow_x": null,
            "overflow_y": null,
            "padding": null,
            "right": null,
            "top": null,
            "visibility": null,
            "width": null
          }
        },
        "587c741c2c324b1888b7bed6d732366d": {
          "model_module": "@jupyter-widgets/controls",
          "model_name": "DescriptionStyleModel",
          "model_module_version": "1.5.0",
          "state": {
            "_model_module": "@jupyter-widgets/controls",
            "_model_module_version": "1.5.0",
            "_model_name": "DescriptionStyleModel",
            "_view_count": null,
            "_view_module": "@jupyter-widgets/base",
            "_view_module_version": "1.2.0",
            "_view_name": "StyleView",
            "description_width": ""
          }
        },
        "01d0c3340b7f4ea5acb77a56ee166121": {
          "model_module": "@jupyter-widgets/base",
          "model_name": "LayoutModel",
          "model_module_version": "1.2.0",
          "state": {
            "_model_module": "@jupyter-widgets/base",
            "_model_module_version": "1.2.0",
            "_model_name": "LayoutModel",
            "_view_count": null,
            "_view_module": "@jupyter-widgets/base",
            "_view_module_version": "1.2.0",
            "_view_name": "LayoutView",
            "align_content": null,
            "align_items": null,
            "align_self": null,
            "border": null,
            "bottom": null,
            "display": null,
            "flex": null,
            "flex_flow": null,
            "grid_area": null,
            "grid_auto_columns": null,
            "grid_auto_flow": null,
            "grid_auto_rows": null,
            "grid_column": null,
            "grid_gap": null,
            "grid_row": null,
            "grid_template_areas": null,
            "grid_template_columns": null,
            "grid_template_rows": null,
            "height": null,
            "justify_content": null,
            "justify_items": null,
            "left": null,
            "margin": null,
            "max_height": null,
            "max_width": null,
            "min_height": null,
            "min_width": null,
            "object_fit": null,
            "object_position": null,
            "order": null,
            "overflow": null,
            "overflow_x": null,
            "overflow_y": null,
            "padding": null,
            "right": null,
            "top": null,
            "visibility": null,
            "width": null
          }
        },
        "008a0ac7918844f3aa933c681d6b2e42": {
          "model_module": "@jupyter-widgets/controls",
          "model_name": "ProgressStyleModel",
          "model_module_version": "1.5.0",
          "state": {
            "_model_module": "@jupyter-widgets/controls",
            "_model_module_version": "1.5.0",
            "_model_name": "ProgressStyleModel",
            "_view_count": null,
            "_view_module": "@jupyter-widgets/base",
            "_view_module_version": "1.2.0",
            "_view_name": "StyleView",
            "bar_color": null,
            "description_width": ""
          }
        },
        "cf8f4a65a3c34809947a4bcd424fe130": {
          "model_module": "@jupyter-widgets/base",
          "model_name": "LayoutModel",
          "model_module_version": "1.2.0",
          "state": {
            "_model_module": "@jupyter-widgets/base",
            "_model_module_version": "1.2.0",
            "_model_name": "LayoutModel",
            "_view_count": null,
            "_view_module": "@jupyter-widgets/base",
            "_view_module_version": "1.2.0",
            "_view_name": "LayoutView",
            "align_content": null,
            "align_items": null,
            "align_self": null,
            "border": null,
            "bottom": null,
            "display": null,
            "flex": null,
            "flex_flow": null,
            "grid_area": null,
            "grid_auto_columns": null,
            "grid_auto_flow": null,
            "grid_auto_rows": null,
            "grid_column": null,
            "grid_gap": null,
            "grid_row": null,
            "grid_template_areas": null,
            "grid_template_columns": null,
            "grid_template_rows": null,
            "height": null,
            "justify_content": null,
            "justify_items": null,
            "left": null,
            "margin": null,
            "max_height": null,
            "max_width": null,
            "min_height": null,
            "min_width": null,
            "object_fit": null,
            "object_position": null,
            "order": null,
            "overflow": null,
            "overflow_x": null,
            "overflow_y": null,
            "padding": null,
            "right": null,
            "top": null,
            "visibility": null,
            "width": null
          }
        },
        "e733bf28e40543c7ae07bc8793965560": {
          "model_module": "@jupyter-widgets/controls",
          "model_name": "DescriptionStyleModel",
          "model_module_version": "1.5.0",
          "state": {
            "_model_module": "@jupyter-widgets/controls",
            "_model_module_version": "1.5.0",
            "_model_name": "DescriptionStyleModel",
            "_view_count": null,
            "_view_module": "@jupyter-widgets/base",
            "_view_module_version": "1.2.0",
            "_view_name": "StyleView",
            "description_width": ""
          }
        },
        "a8be294a77c1453bb75dc43fc8b9d05b": {
          "model_module": "@jupyter-widgets/controls",
          "model_name": "HBoxModel",
          "model_module_version": "1.5.0",
          "state": {
            "_dom_classes": [],
            "_model_module": "@jupyter-widgets/controls",
            "_model_module_version": "1.5.0",
            "_model_name": "HBoxModel",
            "_view_count": null,
            "_view_module": "@jupyter-widgets/controls",
            "_view_module_version": "1.5.0",
            "_view_name": "HBoxView",
            "box_style": "",
            "children": [
              "IPY_MODEL_f58af0a4c82e48578883bde4a4304260",
              "IPY_MODEL_35266cea96fd42daa6be432e7920aca9",
              "IPY_MODEL_3f795b820c054bfd84905cbb760c0c80"
            ],
            "layout": "IPY_MODEL_1ed5a8cdc078475588b437682e960444"
          }
        },
        "f58af0a4c82e48578883bde4a4304260": {
          "model_module": "@jupyter-widgets/controls",
          "model_name": "HTMLModel",
          "model_module_version": "1.5.0",
          "state": {
            "_dom_classes": [],
            "_model_module": "@jupyter-widgets/controls",
            "_model_module_version": "1.5.0",
            "_model_name": "HTMLModel",
            "_view_count": null,
            "_view_module": "@jupyter-widgets/controls",
            "_view_module_version": "1.5.0",
            "_view_name": "HTMLView",
            "description": "",
            "description_tooltip": null,
            "layout": "IPY_MODEL_ef76a99ab42649c6832b5079a915501a",
            "placeholder": "​",
            "style": "IPY_MODEL_32ff4a23a4794d11a7f8e445c2e6140b",
            "value": "generation_config.json: 100%"
          }
        },
        "35266cea96fd42daa6be432e7920aca9": {
          "model_module": "@jupyter-widgets/controls",
          "model_name": "FloatProgressModel",
          "model_module_version": "1.5.0",
          "state": {
            "_dom_classes": [],
            "_model_module": "@jupyter-widgets/controls",
            "_model_module_version": "1.5.0",
            "_model_name": "FloatProgressModel",
            "_view_count": null,
            "_view_module": "@jupyter-widgets/controls",
            "_view_module_version": "1.5.0",
            "_view_name": "ProgressView",
            "bar_style": "success",
            "description": "",
            "description_tooltip": null,
            "layout": "IPY_MODEL_0204523004224920ab1b103d3e4bc1d2",
            "max": 124,
            "min": 0,
            "orientation": "horizontal",
            "style": "IPY_MODEL_bbdb397cdc0f4a919f74154b595bae64",
            "value": 124
          }
        },
        "3f795b820c054bfd84905cbb760c0c80": {
          "model_module": "@jupyter-widgets/controls",
          "model_name": "HTMLModel",
          "model_module_version": "1.5.0",
          "state": {
            "_dom_classes": [],
            "_model_module": "@jupyter-widgets/controls",
            "_model_module_version": "1.5.0",
            "_model_name": "HTMLModel",
            "_view_count": null,
            "_view_module": "@jupyter-widgets/controls",
            "_view_module_version": "1.5.0",
            "_view_name": "HTMLView",
            "description": "",
            "description_tooltip": null,
            "layout": "IPY_MODEL_22e4d3757ab640cc91444303a7ca8d10",
            "placeholder": "​",
            "style": "IPY_MODEL_a3f00de8abc44e4da34345078d54e0e7",
            "value": " 124/124 [00:00&lt;00:00, 11.3kB/s]"
          }
        },
        "1ed5a8cdc078475588b437682e960444": {
          "model_module": "@jupyter-widgets/base",
          "model_name": "LayoutModel",
          "model_module_version": "1.2.0",
          "state": {
            "_model_module": "@jupyter-widgets/base",
            "_model_module_version": "1.2.0",
            "_model_name": "LayoutModel",
            "_view_count": null,
            "_view_module": "@jupyter-widgets/base",
            "_view_module_version": "1.2.0",
            "_view_name": "LayoutView",
            "align_content": null,
            "align_items": null,
            "align_self": null,
            "border": null,
            "bottom": null,
            "display": null,
            "flex": null,
            "flex_flow": null,
            "grid_area": null,
            "grid_auto_columns": null,
            "grid_auto_flow": null,
            "grid_auto_rows": null,
            "grid_column": null,
            "grid_gap": null,
            "grid_row": null,
            "grid_template_areas": null,
            "grid_template_columns": null,
            "grid_template_rows": null,
            "height": null,
            "justify_content": null,
            "justify_items": null,
            "left": null,
            "margin": null,
            "max_height": null,
            "max_width": null,
            "min_height": null,
            "min_width": null,
            "object_fit": null,
            "object_position": null,
            "order": null,
            "overflow": null,
            "overflow_x": null,
            "overflow_y": null,
            "padding": null,
            "right": null,
            "top": null,
            "visibility": null,
            "width": null
          }
        },
        "ef76a99ab42649c6832b5079a915501a": {
          "model_module": "@jupyter-widgets/base",
          "model_name": "LayoutModel",
          "model_module_version": "1.2.0",
          "state": {
            "_model_module": "@jupyter-widgets/base",
            "_model_module_version": "1.2.0",
            "_model_name": "LayoutModel",
            "_view_count": null,
            "_view_module": "@jupyter-widgets/base",
            "_view_module_version": "1.2.0",
            "_view_name": "LayoutView",
            "align_content": null,
            "align_items": null,
            "align_self": null,
            "border": null,
            "bottom": null,
            "display": null,
            "flex": null,
            "flex_flow": null,
            "grid_area": null,
            "grid_auto_columns": null,
            "grid_auto_flow": null,
            "grid_auto_rows": null,
            "grid_column": null,
            "grid_gap": null,
            "grid_row": null,
            "grid_template_areas": null,
            "grid_template_columns": null,
            "grid_template_rows": null,
            "height": null,
            "justify_content": null,
            "justify_items": null,
            "left": null,
            "margin": null,
            "max_height": null,
            "max_width": null,
            "min_height": null,
            "min_width": null,
            "object_fit": null,
            "object_position": null,
            "order": null,
            "overflow": null,
            "overflow_x": null,
            "overflow_y": null,
            "padding": null,
            "right": null,
            "top": null,
            "visibility": null,
            "width": null
          }
        },
        "32ff4a23a4794d11a7f8e445c2e6140b": {
          "model_module": "@jupyter-widgets/controls",
          "model_name": "DescriptionStyleModel",
          "model_module_version": "1.5.0",
          "state": {
            "_model_module": "@jupyter-widgets/controls",
            "_model_module_version": "1.5.0",
            "_model_name": "DescriptionStyleModel",
            "_view_count": null,
            "_view_module": "@jupyter-widgets/base",
            "_view_module_version": "1.2.0",
            "_view_name": "StyleView",
            "description_width": ""
          }
        },
        "0204523004224920ab1b103d3e4bc1d2": {
          "model_module": "@jupyter-widgets/base",
          "model_name": "LayoutModel",
          "model_module_version": "1.2.0",
          "state": {
            "_model_module": "@jupyter-widgets/base",
            "_model_module_version": "1.2.0",
            "_model_name": "LayoutModel",
            "_view_count": null,
            "_view_module": "@jupyter-widgets/base",
            "_view_module_version": "1.2.0",
            "_view_name": "LayoutView",
            "align_content": null,
            "align_items": null,
            "align_self": null,
            "border": null,
            "bottom": null,
            "display": null,
            "flex": null,
            "flex_flow": null,
            "grid_area": null,
            "grid_auto_columns": null,
            "grid_auto_flow": null,
            "grid_auto_rows": null,
            "grid_column": null,
            "grid_gap": null,
            "grid_row": null,
            "grid_template_areas": null,
            "grid_template_columns": null,
            "grid_template_rows": null,
            "height": null,
            "justify_content": null,
            "justify_items": null,
            "left": null,
            "margin": null,
            "max_height": null,
            "max_width": null,
            "min_height": null,
            "min_width": null,
            "object_fit": null,
            "object_position": null,
            "order": null,
            "overflow": null,
            "overflow_x": null,
            "overflow_y": null,
            "padding": null,
            "right": null,
            "top": null,
            "visibility": null,
            "width": null
          }
        },
        "bbdb397cdc0f4a919f74154b595bae64": {
          "model_module": "@jupyter-widgets/controls",
          "model_name": "ProgressStyleModel",
          "model_module_version": "1.5.0",
          "state": {
            "_model_module": "@jupyter-widgets/controls",
            "_model_module_version": "1.5.0",
            "_model_name": "ProgressStyleModel",
            "_view_count": null,
            "_view_module": "@jupyter-widgets/base",
            "_view_module_version": "1.2.0",
            "_view_name": "StyleView",
            "bar_color": null,
            "description_width": ""
          }
        },
        "22e4d3757ab640cc91444303a7ca8d10": {
          "model_module": "@jupyter-widgets/base",
          "model_name": "LayoutModel",
          "model_module_version": "1.2.0",
          "state": {
            "_model_module": "@jupyter-widgets/base",
            "_model_module_version": "1.2.0",
            "_model_name": "LayoutModel",
            "_view_count": null,
            "_view_module": "@jupyter-widgets/base",
            "_view_module_version": "1.2.0",
            "_view_name": "LayoutView",
            "align_content": null,
            "align_items": null,
            "align_self": null,
            "border": null,
            "bottom": null,
            "display": null,
            "flex": null,
            "flex_flow": null,
            "grid_area": null,
            "grid_auto_columns": null,
            "grid_auto_flow": null,
            "grid_auto_rows": null,
            "grid_column": null,
            "grid_gap": null,
            "grid_row": null,
            "grid_template_areas": null,
            "grid_template_columns": null,
            "grid_template_rows": null,
            "height": null,
            "justify_content": null,
            "justify_items": null,
            "left": null,
            "margin": null,
            "max_height": null,
            "max_width": null,
            "min_height": null,
            "min_width": null,
            "object_fit": null,
            "object_position": null,
            "order": null,
            "overflow": null,
            "overflow_x": null,
            "overflow_y": null,
            "padding": null,
            "right": null,
            "top": null,
            "visibility": null,
            "width": null
          }
        },
        "a3f00de8abc44e4da34345078d54e0e7": {
          "model_module": "@jupyter-widgets/controls",
          "model_name": "DescriptionStyleModel",
          "model_module_version": "1.5.0",
          "state": {
            "_model_module": "@jupyter-widgets/controls",
            "_model_module_version": "1.5.0",
            "_model_name": "DescriptionStyleModel",
            "_view_count": null,
            "_view_module": "@jupyter-widgets/base",
            "_view_module_version": "1.2.0",
            "_view_name": "StyleView",
            "description_width": ""
          }
        }
      }
    }
  },
  "nbformat": 4,
  "nbformat_minor": 5
}